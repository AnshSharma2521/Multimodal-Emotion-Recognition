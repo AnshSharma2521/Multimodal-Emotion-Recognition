{
 "cells": [
  {
   "cell_type": "code",
   "execution_count": 1,
   "metadata": {
    "execution": {
     "iopub.execute_input": "2024-10-29T05:24:17.956716Z",
     "iopub.status.busy": "2024-10-29T05:24:17.956049Z",
     "iopub.status.idle": "2024-10-29T05:24:21.175682Z",
     "shell.execute_reply": "2024-10-29T05:24:21.174421Z",
     "shell.execute_reply.started": "2024-10-29T05:24:17.956660Z"
    },
    "trusted": true
   },
   "outputs": [],
   "source": [
    "import re\n",
    "import nltk\n",
    "import string\n",
    "import numpy as np\n",
    "import pandas as pd\n",
    "import seaborn as sns\n",
    "import matplotlib.pyplot as plt\n",
    "from nltk.corpus import stopwords\n",
    "from sklearn.feature_extraction.text import TfidfVectorizer\n",
    "from nltk.stem import SnowballStemmer, WordNetLemmatizer\n",
    "from sklearn.preprocessing import LabelEncoder\n",
    "from sklearn.model_selection import train_test_split"
   ]
  },
  {
   "cell_type": "code",
   "execution_count": 2,
   "metadata": {
    "execution": {
     "iopub.execute_input": "2024-10-29T05:24:21.177810Z",
     "iopub.status.busy": "2024-10-29T05:24:21.177158Z",
     "iopub.status.idle": "2024-10-29T05:24:36.183816Z",
     "shell.execute_reply": "2024-10-29T05:24:36.182806Z",
     "shell.execute_reply.started": "2024-10-29T05:24:21.177758Z"
    },
    "trusted": true
   },
   "outputs": [],
   "source": [
    "from tensorflow.keras.utils import to_categorical\n",
    "from tensorflow.keras.preprocessing.text import Tokenizer\n",
    "from tensorflow.keras.preprocessing.sequence import pad_sequences\n",
    "from tensorflow.keras.optimizers import Adam\n",
    "from tensorflow.keras.models import Sequential\n",
    "from tensorflow.keras.callbacks import EarlyStopping\n",
    "from tensorflow.keras.layers import Dense, LSTM, Embedding, Bidirectional"
   ]
  },
  {
   "cell_type": "code",
   "execution_count": 3,
   "metadata": {
    "execution": {
     "iopub.execute_input": "2024-10-29T05:24:36.185710Z",
     "iopub.status.busy": "2024-10-29T05:24:36.185077Z",
     "iopub.status.idle": "2024-10-29T05:24:36.196282Z",
     "shell.execute_reply": "2024-10-29T05:24:36.194955Z",
     "shell.execute_reply.started": "2024-10-29T05:24:36.185670Z"
    },
    "trusted": true
   },
   "outputs": [],
   "source": [
    "stop_wrods = set(stopwords.words('english'))\n",
    "lemmatizer = WordNetLemmatizer()"
   ]
  },
  {
   "cell_type": "code",
   "execution_count": 4,
   "metadata": {
    "execution": {
     "iopub.execute_input": "2024-10-29T05:24:36.201995Z",
     "iopub.status.busy": "2024-10-29T05:24:36.200749Z",
     "iopub.status.idle": "2024-10-29T05:24:36.387603Z",
     "shell.execute_reply": "2024-10-29T05:24:36.386547Z",
     "shell.execute_reply.started": "2024-10-29T05:24:36.201931Z"
    },
    "trusted": true
   },
   "outputs": [],
   "source": [
    "from sklearn.model_selection import train_test_split, KFold, GridSearchCV\n",
    "from sklearn.ensemble import RandomForestClassifier\n",
    "from sklearn.linear_model import LogisticRegression\n",
    "from sklearn.tree import DecisionTreeClassifier\n",
    "from sklearn.ensemble import RandomForestClassifier\n",
    "from sklearn.metrics import accuracy_score, confusion_matrix, classification_report\n",
    "from sklearn.pipeline import Pipeline\n",
    "from sklearn.metrics import f1_score\n",
    "from sklearn.svm import SVC"
   ]
  },
  {
   "cell_type": "code",
   "execution_count": 5,
   "metadata": {
    "execution": {
     "iopub.execute_input": "2024-10-29T05:24:36.389423Z",
     "iopub.status.busy": "2024-10-29T05:24:36.389034Z",
     "iopub.status.idle": "2024-10-29T05:24:36.666556Z",
     "shell.execute_reply": "2024-10-29T05:24:36.665311Z",
     "shell.execute_reply.started": "2024-10-29T05:24:36.389383Z"
    },
    "trusted": true
   },
   "outputs": [
    {
     "name": "stderr",
     "output_type": "stream",
     "text": [
      "[nltk_data] Downloading package omw-1.4 to\n",
      "[nltk_data]     C:\\Users\\anshs\\AppData\\Roaming\\nltk_data...\n",
      "[nltk_data]   Package omw-1.4 is already up-to-date!\n"
     ]
    },
    {
     "data": {
      "text/plain": [
       "True"
      ]
     },
     "execution_count": 5,
     "metadata": {},
     "output_type": "execute_result"
    }
   ],
   "source": [
    "from lime import lime_text\n",
    "from lime.lime_text import LimeTextExplainer, IndexedString, IndexedCharacters, explanation\n",
    "from lime.lime_base import LimeBase\n",
    "\n",
    "sns.set(font_scale=1.3)\n",
    "nltk.download('omw-1.4')\n"
   ]
  },
  {
   "cell_type": "code",
   "execution_count": 6,
   "metadata": {
    "execution": {
     "iopub.execute_input": "2024-10-29T05:24:36.668886Z",
     "iopub.status.busy": "2024-10-29T05:24:36.668359Z",
     "iopub.status.idle": "2024-10-29T05:24:36.767909Z",
     "shell.execute_reply": "2024-10-29T05:24:36.766747Z",
     "shell.execute_reply.started": "2024-10-29T05:24:36.668834Z"
    },
    "trusted": true
   },
   "outputs": [],
   "source": [
    "df_train = pd.read_csv('D:/CVR_MINI_PROG/text_data/train.txt', names=['Text', 'Emotion'], sep=';')\n",
    "df_val = pd.read_csv('D:/CVR_MINI_PROG/text_data/val.txt', names=['Text', 'Emotion'], sep=';')\n",
    "df_test = pd.read_csv('D:/CVR_MINI_PROG/text_data/test.txt', names=['Text', 'Emotion'], sep=';')"
   ]
  },
  {
   "cell_type": "code",
   "execution_count": 7,
   "metadata": {
    "execution": {
     "iopub.execute_input": "2024-10-29T05:24:36.770077Z",
     "iopub.status.busy": "2024-10-29T05:24:36.769336Z",
     "iopub.status.idle": "2024-10-29T05:24:36.789804Z",
     "shell.execute_reply": "2024-10-29T05:24:36.788723Z",
     "shell.execute_reply.started": "2024-10-29T05:24:36.770036Z"
    },
    "trusted": true
   },
   "outputs": [
    {
     "data": {
      "text/html": [
       "<div>\n",
       "<style scoped>\n",
       "    .dataframe tbody tr th:only-of-type {\n",
       "        vertical-align: middle;\n",
       "    }\n",
       "\n",
       "    .dataframe tbody tr th {\n",
       "        vertical-align: top;\n",
       "    }\n",
       "\n",
       "    .dataframe thead th {\n",
       "        text-align: right;\n",
       "    }\n",
       "</style>\n",
       "<table border=\"1\" class=\"dataframe\">\n",
       "  <thead>\n",
       "    <tr style=\"text-align: right;\">\n",
       "      <th></th>\n",
       "      <th>Text</th>\n",
       "      <th>Emotion</th>\n",
       "    </tr>\n",
       "  </thead>\n",
       "  <tbody>\n",
       "    <tr>\n",
       "      <th>0</th>\n",
       "      <td>i didnt feel humiliated</td>\n",
       "      <td>sadness</td>\n",
       "    </tr>\n",
       "    <tr>\n",
       "      <th>1</th>\n",
       "      <td>i can go from feeling so hopeless to so damned...</td>\n",
       "      <td>sadness</td>\n",
       "    </tr>\n",
       "    <tr>\n",
       "      <th>2</th>\n",
       "      <td>im grabbing a minute to post i feel greedy wrong</td>\n",
       "      <td>anger</td>\n",
       "    </tr>\n",
       "    <tr>\n",
       "      <th>3</th>\n",
       "      <td>i am ever feeling nostalgic about the fireplac...</td>\n",
       "      <td>love</td>\n",
       "    </tr>\n",
       "    <tr>\n",
       "      <th>4</th>\n",
       "      <td>i am feeling grouchy</td>\n",
       "      <td>anger</td>\n",
       "    </tr>\n",
       "  </tbody>\n",
       "</table>\n",
       "</div>"
      ],
      "text/plain": [
       "                                                Text  Emotion\n",
       "0                            i didnt feel humiliated  sadness\n",
       "1  i can go from feeling so hopeless to so damned...  sadness\n",
       "2   im grabbing a minute to post i feel greedy wrong    anger\n",
       "3  i am ever feeling nostalgic about the fireplac...     love\n",
       "4                               i am feeling grouchy    anger"
      ]
     },
     "execution_count": 7,
     "metadata": {},
     "output_type": "execute_result"
    }
   ],
   "source": [
    "df_train.head()"
   ]
  },
  {
   "cell_type": "code",
   "execution_count": 8,
   "metadata": {
    "execution": {
     "iopub.execute_input": "2024-10-29T05:24:36.791581Z",
     "iopub.status.busy": "2024-10-29T05:24:36.791191Z",
     "iopub.status.idle": "2024-10-29T05:24:36.809227Z",
     "shell.execute_reply": "2024-10-29T05:24:36.808017Z",
     "shell.execute_reply.started": "2024-10-29T05:24:36.791541Z"
    },
    "trusted": true
   },
   "outputs": [
    {
     "data": {
      "text/plain": [
       "Emotion\n",
       "joy         5362\n",
       "sadness     4666\n",
       "anger       2159\n",
       "fear        1937\n",
       "love        1304\n",
       "surprise     572\n",
       "Name: count, dtype: int64"
      ]
     },
     "execution_count": 8,
     "metadata": {},
     "output_type": "execute_result"
    }
   ],
   "source": [
    "df_train['Emotion'].value_counts()"
   ]
  },
  {
   "cell_type": "code",
   "execution_count": 9,
   "metadata": {
    "execution": {
     "iopub.execute_input": "2024-10-29T05:24:36.811148Z",
     "iopub.status.busy": "2024-10-29T05:24:36.810661Z",
     "iopub.status.idle": "2024-10-29T05:24:36.827740Z",
     "shell.execute_reply": "2024-10-29T05:24:36.826531Z",
     "shell.execute_reply.started": "2024-10-29T05:24:36.811094Z"
    },
    "trusted": true
   },
   "outputs": [
    {
     "name": "stdout",
     "output_type": "stream",
     "text": [
      "(2000, 2)\n"
     ]
    },
    {
     "data": {
      "text/html": [
       "<div>\n",
       "<style scoped>\n",
       "    .dataframe tbody tr th:only-of-type {\n",
       "        vertical-align: middle;\n",
       "    }\n",
       "\n",
       "    .dataframe tbody tr th {\n",
       "        vertical-align: top;\n",
       "    }\n",
       "\n",
       "    .dataframe thead th {\n",
       "        text-align: right;\n",
       "    }\n",
       "</style>\n",
       "<table border=\"1\" class=\"dataframe\">\n",
       "  <thead>\n",
       "    <tr style=\"text-align: right;\">\n",
       "      <th></th>\n",
       "      <th>Text</th>\n",
       "      <th>Emotion</th>\n",
       "    </tr>\n",
       "  </thead>\n",
       "  <tbody>\n",
       "    <tr>\n",
       "      <th>0</th>\n",
       "      <td>im feeling rather rotten so im not very ambiti...</td>\n",
       "      <td>sadness</td>\n",
       "    </tr>\n",
       "    <tr>\n",
       "      <th>1</th>\n",
       "      <td>im updating my blog because i feel shitty</td>\n",
       "      <td>sadness</td>\n",
       "    </tr>\n",
       "    <tr>\n",
       "      <th>2</th>\n",
       "      <td>i never make her separate from me because i do...</td>\n",
       "      <td>sadness</td>\n",
       "    </tr>\n",
       "    <tr>\n",
       "      <th>3</th>\n",
       "      <td>i left with my bouquet of red and yellow tulip...</td>\n",
       "      <td>joy</td>\n",
       "    </tr>\n",
       "    <tr>\n",
       "      <th>4</th>\n",
       "      <td>i was feeling a little vain when i did this one</td>\n",
       "      <td>sadness</td>\n",
       "    </tr>\n",
       "  </tbody>\n",
       "</table>\n",
       "</div>"
      ],
      "text/plain": [
       "                                                Text  Emotion\n",
       "0  im feeling rather rotten so im not very ambiti...  sadness\n",
       "1          im updating my blog because i feel shitty  sadness\n",
       "2  i never make her separate from me because i do...  sadness\n",
       "3  i left with my bouquet of red and yellow tulip...      joy\n",
       "4    i was feeling a little vain when i did this one  sadness"
      ]
     },
     "execution_count": 9,
     "metadata": {},
     "output_type": "execute_result"
    }
   ],
   "source": [
    "print(df_test.shape)\n",
    "df_test.head()"
   ]
  },
  {
   "cell_type": "code",
   "execution_count": 10,
   "metadata": {
    "execution": {
     "iopub.execute_input": "2024-10-29T05:24:36.829628Z",
     "iopub.status.busy": "2024-10-29T05:24:36.829206Z",
     "iopub.status.idle": "2024-10-29T05:24:36.847177Z",
     "shell.execute_reply": "2024-10-29T05:24:36.845809Z",
     "shell.execute_reply.started": "2024-10-29T05:24:36.829587Z"
    },
    "trusted": true
   },
   "outputs": [
    {
     "name": "stdout",
     "output_type": "stream",
     "text": [
      "(2000, 2)\n"
     ]
    },
    {
     "data": {
      "text/html": [
       "<div>\n",
       "<style scoped>\n",
       "    .dataframe tbody tr th:only-of-type {\n",
       "        vertical-align: middle;\n",
       "    }\n",
       "\n",
       "    .dataframe tbody tr th {\n",
       "        vertical-align: top;\n",
       "    }\n",
       "\n",
       "    .dataframe thead th {\n",
       "        text-align: right;\n",
       "    }\n",
       "</style>\n",
       "<table border=\"1\" class=\"dataframe\">\n",
       "  <thead>\n",
       "    <tr style=\"text-align: right;\">\n",
       "      <th></th>\n",
       "      <th>Text</th>\n",
       "      <th>Emotion</th>\n",
       "    </tr>\n",
       "  </thead>\n",
       "  <tbody>\n",
       "    <tr>\n",
       "      <th>0</th>\n",
       "      <td>im feeling quite sad and sorry for myself but ...</td>\n",
       "      <td>sadness</td>\n",
       "    </tr>\n",
       "    <tr>\n",
       "      <th>1</th>\n",
       "      <td>i feel like i am still looking at a blank canv...</td>\n",
       "      <td>sadness</td>\n",
       "    </tr>\n",
       "    <tr>\n",
       "      <th>2</th>\n",
       "      <td>i feel like a faithful servant</td>\n",
       "      <td>love</td>\n",
       "    </tr>\n",
       "    <tr>\n",
       "      <th>3</th>\n",
       "      <td>i am just feeling cranky and blue</td>\n",
       "      <td>anger</td>\n",
       "    </tr>\n",
       "    <tr>\n",
       "      <th>4</th>\n",
       "      <td>i can have for a treat or if i am feeling festive</td>\n",
       "      <td>joy</td>\n",
       "    </tr>\n",
       "  </tbody>\n",
       "</table>\n",
       "</div>"
      ],
      "text/plain": [
       "                                                Text  Emotion\n",
       "0  im feeling quite sad and sorry for myself but ...  sadness\n",
       "1  i feel like i am still looking at a blank canv...  sadness\n",
       "2                     i feel like a faithful servant     love\n",
       "3                  i am just feeling cranky and blue    anger\n",
       "4  i can have for a treat or if i am feeling festive      joy"
      ]
     },
     "execution_count": 10,
     "metadata": {},
     "output_type": "execute_result"
    }
   ],
   "source": [
    "print(df_val.shape)\n",
    "df_val.head()"
   ]
  },
  {
   "cell_type": "code",
   "execution_count": 11,
   "metadata": {
    "execution": {
     "iopub.execute_input": "2024-10-29T05:24:36.849198Z",
     "iopub.status.busy": "2024-10-29T05:24:36.848800Z",
     "iopub.status.idle": "2024-10-29T05:24:36.863626Z",
     "shell.execute_reply": "2024-10-29T05:24:36.862534Z",
     "shell.execute_reply.started": "2024-10-29T05:24:36.849158Z"
    },
    "trusted": true
   },
   "outputs": [
    {
     "data": {
      "text/plain": [
       "Emotion\n",
       "joy         5362\n",
       "sadness     4666\n",
       "anger       2159\n",
       "fear        1937\n",
       "love        1304\n",
       "surprise     572\n",
       "Name: count, dtype: int64"
      ]
     },
     "execution_count": 11,
     "metadata": {},
     "output_type": "execute_result"
    }
   ],
   "source": [
    "df_train['Emotion'].value_counts()"
   ]
  },
  {
   "cell_type": "code",
   "execution_count": 12,
   "metadata": {
    "execution": {
     "iopub.execute_input": "2024-10-29T05:24:36.865131Z",
     "iopub.status.busy": "2024-10-29T05:24:36.864782Z",
     "iopub.status.idle": "2024-10-29T05:24:36.882785Z",
     "shell.execute_reply": "2024-10-29T05:24:36.881578Z",
     "shell.execute_reply.started": "2024-10-29T05:24:36.865092Z"
    },
    "trusted": true
   },
   "outputs": [
    {
     "data": {
      "text/plain": [
       "Emotion\n",
       "joy         33.51250\n",
       "sadness     29.16250\n",
       "anger       13.49375\n",
       "fear        12.10625\n",
       "love         8.15000\n",
       "surprise     3.57500\n",
       "Name: count, dtype: float64"
      ]
     },
     "execution_count": 12,
     "metadata": {},
     "output_type": "execute_result"
    }
   ],
   "source": [
    "df_train['Emotion'].value_counts() / df_train.shape[0] * 100"
   ]
  },
  {
   "cell_type": "code",
   "execution_count": 13,
   "metadata": {
    "execution": {
     "iopub.execute_input": "2024-10-29T05:24:36.889428Z",
     "iopub.status.busy": "2024-10-29T05:24:36.889022Z",
     "iopub.status.idle": "2024-10-29T05:24:37.241368Z",
     "shell.execute_reply": "2024-10-29T05:24:37.240178Z",
     "shell.execute_reply.started": "2024-10-29T05:24:36.889390Z"
    },
    "trusted": true
   },
   "outputs": [
    {
     "data": {
      "text/plain": [
       "<Axes: xlabel='Emotion', ylabel='count'>"
      ]
     },
     "execution_count": 13,
     "metadata": {},
     "output_type": "execute_result"
    },
    {
     "data": {
      "image/png": "[encoded data removed]",
      "text/plain": [
       "<Figure size 800x400 with 1 Axes>"
      ]
     },
     "metadata": {},
     "output_type": "display_data"
    }
   ],
   "source": [
    "plt.figure(figsize=(8, 4))\n",
    "sns.countplot(x='Emotion', data=df_train)"
   ]
  },
  {
   "cell_type": "code",
   "execution_count": 14,
   "metadata": {
    "execution": {
     "iopub.execute_input": "2024-10-29T05:24:37.243624Z",
     "iopub.status.busy": "2024-10-29T05:24:37.243128Z",
     "iopub.status.idle": "2024-10-29T05:24:37.257261Z",
     "shell.execute_reply": "2024-10-29T05:24:37.256056Z",
     "shell.execute_reply.started": "2024-10-29T05:24:37.243572Z"
    },
    "trusted": true
   },
   "outputs": [
    {
     "data": {
      "text/plain": [
       "Text       0\n",
       "Emotion    0\n",
       "dtype: int64"
      ]
     },
     "execution_count": 14,
     "metadata": {},
     "output_type": "execute_result"
    }
   ],
   "source": [
    "df_train.isnull().sum()"
   ]
  },
  {
   "cell_type": "code",
   "execution_count": 15,
   "metadata": {
    "execution": {
     "iopub.execute_input": "2024-10-29T05:24:37.259007Z",
     "iopub.status.busy": "2024-10-29T05:24:37.258641Z",
     "iopub.status.idle": "2024-10-29T05:24:37.282047Z",
     "shell.execute_reply": "2024-10-29T05:24:37.280791Z",
     "shell.execute_reply.started": "2024-10-29T05:24:37.258969Z"
    },
    "trusted": true
   },
   "outputs": [
    {
     "data": {
      "text/plain": [
       "1"
      ]
     },
     "execution_count": 15,
     "metadata": {},
     "output_type": "execute_result"
    }
   ],
   "source": [
    "df_train.duplicated().sum()"
   ]
  },
  {
   "cell_type": "code",
   "execution_count": 16,
   "metadata": {
    "execution": {
     "iopub.execute_input": "2024-10-29T05:24:37.283948Z",
     "iopub.status.busy": "2024-10-29T05:24:37.283570Z",
     "iopub.status.idle": "2024-10-29T05:24:37.302970Z",
     "shell.execute_reply": "2024-10-29T05:24:37.301823Z",
     "shell.execute_reply.started": "2024-10-29T05:24:37.283909Z"
    },
    "trusted": true
   },
   "outputs": [],
   "source": [
    "index = df_train[df_train.duplicated() == True].index\n",
    "df_train.drop(index, axis=0, inplace=True)\n",
    "df_train.reset_index(inplace=True, drop=True)"
   ]
  },
  {
   "cell_type": "code",
   "execution_count": 17,
   "metadata": {
    "execution": {
     "iopub.execute_input": "2024-10-29T05:24:37.304713Z",
     "iopub.status.busy": "2024-10-29T05:24:37.304331Z",
     "iopub.status.idle": "2024-10-29T05:24:37.324275Z",
     "shell.execute_reply": "2024-10-29T05:24:37.323138Z",
     "shell.execute_reply.started": "2024-10-29T05:24:37.304674Z"
    },
    "trusted": true
   },
   "outputs": [
    {
     "data": {
      "text/plain": [
       "Index([], dtype='int64')"
      ]
     },
     "execution_count": 17,
     "metadata": {},
     "output_type": "execute_result"
    }
   ],
   "source": [
    "df_train[df_train.duplicated() == True].index"
   ]
  },
  {
   "cell_type": "code",
   "execution_count": 18,
   "metadata": {
    "execution": {
     "iopub.execute_input": "2024-10-29T05:24:37.326003Z",
     "iopub.status.busy": "2024-10-29T05:24:37.325619Z",
     "iopub.status.idle": "2024-10-29T05:24:37.345080Z",
     "shell.execute_reply": "2024-10-29T05:24:37.343881Z",
     "shell.execute_reply.started": "2024-10-29T05:24:37.325965Z"
    },
    "trusted": true
   },
   "outputs": [
    {
     "data": {
      "text/html": [
       "<div>\n",
       "<style scoped>\n",
       "    .dataframe tbody tr th:only-of-type {\n",
       "        vertical-align: middle;\n",
       "    }\n",
       "\n",
       "    .dataframe tbody tr th {\n",
       "        vertical-align: top;\n",
       "    }\n",
       "\n",
       "    .dataframe thead th {\n",
       "        text-align: right;\n",
       "    }\n",
       "</style>\n",
       "<table border=\"1\" class=\"dataframe\">\n",
       "  <thead>\n",
       "    <tr style=\"text-align: right;\">\n",
       "      <th></th>\n",
       "      <th>Text</th>\n",
       "      <th>Emotion</th>\n",
       "    </tr>\n",
       "  </thead>\n",
       "  <tbody>\n",
       "    <tr>\n",
       "      <th>5067</th>\n",
       "      <td>i feel on the verge of tears from weariness i ...</td>\n",
       "      <td>joy</td>\n",
       "    </tr>\n",
       "    <tr>\n",
       "      <th>6133</th>\n",
       "      <td>i still feel a craving for sweet food</td>\n",
       "      <td>love</td>\n",
       "    </tr>\n",
       "    <tr>\n",
       "      <th>6563</th>\n",
       "      <td>i tend to stop breathing when i m feeling stre...</td>\n",
       "      <td>anger</td>\n",
       "    </tr>\n",
       "    <tr>\n",
       "      <th>7623</th>\n",
       "      <td>i was intensely conscious of how much cash i h...</td>\n",
       "      <td>sadness</td>\n",
       "    </tr>\n",
       "    <tr>\n",
       "      <th>7685</th>\n",
       "      <td>im still not sure why reilly feels the need to...</td>\n",
       "      <td>surprise</td>\n",
       "    </tr>\n",
       "    <tr>\n",
       "      <th>8246</th>\n",
       "      <td>i am not amazing or great at photography but i...</td>\n",
       "      <td>love</td>\n",
       "    </tr>\n",
       "    <tr>\n",
       "      <th>9596</th>\n",
       "      <td>ive also made it with both sugar measurements ...</td>\n",
       "      <td>joy</td>\n",
       "    </tr>\n",
       "    <tr>\n",
       "      <th>9687</th>\n",
       "      <td>i had to choose the sleek and smoother feel of...</td>\n",
       "      <td>joy</td>\n",
       "    </tr>\n",
       "    <tr>\n",
       "      <th>9769</th>\n",
       "      <td>i often find myself feeling assaulted by a mul...</td>\n",
       "      <td>sadness</td>\n",
       "    </tr>\n",
       "    <tr>\n",
       "      <th>9786</th>\n",
       "      <td>i feel im being generous with that statement</td>\n",
       "      <td>joy</td>\n",
       "    </tr>\n",
       "    <tr>\n",
       "      <th>10117</th>\n",
       "      <td>i feel pretty tortured because i work a job an...</td>\n",
       "      <td>fear</td>\n",
       "    </tr>\n",
       "    <tr>\n",
       "      <th>10581</th>\n",
       "      <td>i feel most passionate about</td>\n",
       "      <td>joy</td>\n",
       "    </tr>\n",
       "    <tr>\n",
       "      <th>11273</th>\n",
       "      <td>i was so stubborn and that it took you getting...</td>\n",
       "      <td>joy</td>\n",
       "    </tr>\n",
       "    <tr>\n",
       "      <th>11354</th>\n",
       "      <td>i write these words i feel sweet baby kicks fr...</td>\n",
       "      <td>love</td>\n",
       "    </tr>\n",
       "    <tr>\n",
       "      <th>11525</th>\n",
       "      <td>i feel a remembrance of the strange by justin ...</td>\n",
       "      <td>fear</td>\n",
       "    </tr>\n",
       "    <tr>\n",
       "      <th>11823</th>\n",
       "      <td>i have chose for myself that makes me feel ama...</td>\n",
       "      <td>joy</td>\n",
       "    </tr>\n",
       "    <tr>\n",
       "      <th>12441</th>\n",
       "      <td>i still feel completely accepted</td>\n",
       "      <td>love</td>\n",
       "    </tr>\n",
       "    <tr>\n",
       "      <th>12562</th>\n",
       "      <td>i feel so weird about it</td>\n",
       "      <td>surprise</td>\n",
       "    </tr>\n",
       "    <tr>\n",
       "      <th>12892</th>\n",
       "      <td>i cant escape the tears of sadness and just tr...</td>\n",
       "      <td>joy</td>\n",
       "    </tr>\n",
       "    <tr>\n",
       "      <th>13236</th>\n",
       "      <td>i feel like a tortured artist when i talk to her</td>\n",
       "      <td>anger</td>\n",
       "    </tr>\n",
       "    <tr>\n",
       "      <th>13879</th>\n",
       "      <td>i feel like i am very passionate about youtube...</td>\n",
       "      <td>love</td>\n",
       "    </tr>\n",
       "    <tr>\n",
       "      <th>14106</th>\n",
       "      <td>i feel kind of strange</td>\n",
       "      <td>surprise</td>\n",
       "    </tr>\n",
       "    <tr>\n",
       "      <th>14313</th>\n",
       "      <td>i could feel myself hit this strange foggy wall</td>\n",
       "      <td>surprise</td>\n",
       "    </tr>\n",
       "    <tr>\n",
       "      <th>14633</th>\n",
       "      <td>i feel pretty weird blogging about deodorant b...</td>\n",
       "      <td>fear</td>\n",
       "    </tr>\n",
       "    <tr>\n",
       "      <th>14925</th>\n",
       "      <td>i resorted to yesterday the post peak day of i...</td>\n",
       "      <td>fear</td>\n",
       "    </tr>\n",
       "    <tr>\n",
       "      <th>15314</th>\n",
       "      <td>i will feel as though i am accepted by as well...</td>\n",
       "      <td>joy</td>\n",
       "    </tr>\n",
       "    <tr>\n",
       "      <th>15328</th>\n",
       "      <td>i shy away from songs that talk about how i fe...</td>\n",
       "      <td>joy</td>\n",
       "    </tr>\n",
       "    <tr>\n",
       "      <th>15571</th>\n",
       "      <td>i bet taylor swift basks in the knowledge that...</td>\n",
       "      <td>anger</td>\n",
       "    </tr>\n",
       "    <tr>\n",
       "      <th>15704</th>\n",
       "      <td>i began to feel accepted by gaia on her own terms</td>\n",
       "      <td>joy</td>\n",
       "    </tr>\n",
       "    <tr>\n",
       "      <th>15875</th>\n",
       "      <td>i was sitting in the corner stewing in my own ...</td>\n",
       "      <td>anger</td>\n",
       "    </tr>\n",
       "  </tbody>\n",
       "</table>\n",
       "</div>"
      ],
      "text/plain": [
       "                                                    Text   Emotion\n",
       "5067   i feel on the verge of tears from weariness i ...       joy\n",
       "6133               i still feel a craving for sweet food      love\n",
       "6563   i tend to stop breathing when i m feeling stre...     anger\n",
       "7623   i was intensely conscious of how much cash i h...   sadness\n",
       "7685   im still not sure why reilly feels the need to...  surprise\n",
       "8246   i am not amazing or great at photography but i...      love\n",
       "9596   ive also made it with both sugar measurements ...       joy\n",
       "9687   i had to choose the sleek and smoother feel of...       joy\n",
       "9769   i often find myself feeling assaulted by a mul...   sadness\n",
       "9786        i feel im being generous with that statement       joy\n",
       "10117  i feel pretty tortured because i work a job an...      fear\n",
       "10581                       i feel most passionate about       joy\n",
       "11273  i was so stubborn and that it took you getting...       joy\n",
       "11354  i write these words i feel sweet baby kicks fr...      love\n",
       "11525  i feel a remembrance of the strange by justin ...      fear\n",
       "11823  i have chose for myself that makes me feel ama...       joy\n",
       "12441                   i still feel completely accepted      love\n",
       "12562                           i feel so weird about it  surprise\n",
       "12892  i cant escape the tears of sadness and just tr...       joy\n",
       "13236   i feel like a tortured artist when i talk to her     anger\n",
       "13879  i feel like i am very passionate about youtube...      love\n",
       "14106                             i feel kind of strange  surprise\n",
       "14313    i could feel myself hit this strange foggy wall  surprise\n",
       "14633  i feel pretty weird blogging about deodorant b...      fear\n",
       "14925  i resorted to yesterday the post peak day of i...      fear\n",
       "15314  i will feel as though i am accepted by as well...       joy\n",
       "15328  i shy away from songs that talk about how i fe...       joy\n",
       "15571  i bet taylor swift basks in the knowledge that...     anger\n",
       "15704  i began to feel accepted by gaia on her own terms       joy\n",
       "15875  i was sitting in the corner stewing in my own ...     anger"
      ]
     },
     "execution_count": 18,
     "metadata": {},
     "output_type": "execute_result"
    }
   ],
   "source": [
    "df_train[df_train['Text'].duplicated() == True]"
   ]
  },
  {
   "cell_type": "code",
   "execution_count": 19,
   "metadata": {
    "execution": {
     "iopub.execute_input": "2024-10-29T05:24:37.347481Z",
     "iopub.status.busy": "2024-10-29T05:24:37.347065Z",
     "iopub.status.idle": "2024-10-29T05:24:37.362888Z",
     "shell.execute_reply": "2024-10-29T05:24:37.361829Z",
     "shell.execute_reply.started": "2024-10-29T05:24:37.347417Z"
    },
    "trusted": true
   },
   "outputs": [
    {
     "data": {
      "text/html": [
       "<div>\n",
       "<style scoped>\n",
       "    .dataframe tbody tr th:only-of-type {\n",
       "        vertical-align: middle;\n",
       "    }\n",
       "\n",
       "    .dataframe tbody tr th {\n",
       "        vertical-align: top;\n",
       "    }\n",
       "\n",
       "    .dataframe thead th {\n",
       "        text-align: right;\n",
       "    }\n",
       "</style>\n",
       "<table border=\"1\" class=\"dataframe\">\n",
       "  <thead>\n",
       "    <tr style=\"text-align: right;\">\n",
       "      <th></th>\n",
       "      <th>Text</th>\n",
       "      <th>Emotion</th>\n",
       "    </tr>\n",
       "  </thead>\n",
       "  <tbody>\n",
       "    <tr>\n",
       "      <th>1625</th>\n",
       "      <td>i was intensely conscious of how much cash i h...</td>\n",
       "      <td>anger</td>\n",
       "    </tr>\n",
       "    <tr>\n",
       "      <th>7623</th>\n",
       "      <td>i was intensely conscious of how much cash i h...</td>\n",
       "      <td>sadness</td>\n",
       "    </tr>\n",
       "  </tbody>\n",
       "</table>\n",
       "</div>"
      ],
      "text/plain": [
       "                                                   Text  Emotion\n",
       "1625  i was intensely conscious of how much cash i h...    anger\n",
       "7623  i was intensely conscious of how much cash i h...  sadness"
      ]
     },
     "execution_count": 19,
     "metadata": {},
     "output_type": "execute_result"
    }
   ],
   "source": [
    "df_train[df_train['Text'] == df_train.iloc[7623]['Text']]"
   ]
  },
  {
   "cell_type": "code",
   "execution_count": 20,
   "metadata": {
    "execution": {
     "iopub.execute_input": "2024-10-29T05:24:37.365157Z",
     "iopub.status.busy": "2024-10-29T05:24:37.364376Z",
     "iopub.status.idle": "2024-10-29T05:24:37.378094Z",
     "shell.execute_reply": "2024-10-29T05:24:37.377135Z",
     "shell.execute_reply.started": "2024-10-29T05:24:37.365102Z"
    },
    "trusted": true
   },
   "outputs": [],
   "source": [
    "index = df_train[df_train['Text'].duplicated() == True].index\n",
    "df_train.drop(index, axis=0, inplace=True)\n",
    "df_train.reset_index(inplace=True, drop=True)"
   ]
  },
  {
   "cell_type": "code",
   "execution_count": 21,
   "metadata": {
    "execution": {
     "iopub.execute_input": "2024-10-29T05:24:37.379801Z",
     "iopub.status.busy": "2024-10-29T05:24:37.379427Z",
     "iopub.status.idle": "2024-10-29T05:24:37.396562Z",
     "shell.execute_reply": "2024-10-29T05:24:37.395405Z",
     "shell.execute_reply.started": "2024-10-29T05:24:37.379764Z"
    },
    "trusted": true
   },
   "outputs": [
    {
     "data": {
      "text/html": [
       "<div>\n",
       "<style scoped>\n",
       "    .dataframe tbody tr th:only-of-type {\n",
       "        vertical-align: middle;\n",
       "    }\n",
       "\n",
       "    .dataframe tbody tr th {\n",
       "        vertical-align: top;\n",
       "    }\n",
       "\n",
       "    .dataframe thead th {\n",
       "        text-align: right;\n",
       "    }\n",
       "</style>\n",
       "<table border=\"1\" class=\"dataframe\">\n",
       "  <thead>\n",
       "    <tr style=\"text-align: right;\">\n",
       "      <th></th>\n",
       "      <th>Text</th>\n",
       "      <th>Emotion</th>\n",
       "    </tr>\n",
       "  </thead>\n",
       "  <tbody>\n",
       "  </tbody>\n",
       "</table>\n",
       "</div>"
      ],
      "text/plain": [
       "Empty DataFrame\n",
       "Columns: [Text, Emotion]\n",
       "Index: []"
      ]
     },
     "execution_count": 21,
     "metadata": {},
     "output_type": "execute_result"
    }
   ],
   "source": [
    "df_train[df_train['Text'].duplicated() == True]"
   ]
  },
  {
   "cell_type": "code",
   "execution_count": 22,
   "metadata": {
    "execution": {
     "iopub.execute_input": "2024-10-29T05:24:37.398676Z",
     "iopub.status.busy": "2024-10-29T05:24:37.398275Z",
     "iopub.status.idle": "2024-10-29T05:24:37.540939Z",
     "shell.execute_reply": "2024-10-29T05:24:37.539799Z",
     "shell.execute_reply.started": "2024-10-29T05:24:37.398635Z"
    },
    "trusted": true
   },
   "outputs": [
    {
     "data": {
      "text/plain": [
       "stop_words\n",
       "5     1416\n",
       "7     1405\n",
       "6     1392\n",
       "4     1341\n",
       "8     1319\n",
       "3     1263\n",
       "9     1177\n",
       "10    1048\n",
       "2      922\n",
       "11     889\n",
       "12     752\n",
       "13     644\n",
       "14     493\n",
       "1      450\n",
       "15     376\n",
       "16     265\n",
       "17     238\n",
       "18     164\n",
       "19     113\n",
       "20      90\n",
       "0       79\n",
       "21      60\n",
       "22      33\n",
       "23      19\n",
       "24       7\n",
       "25       6\n",
       "26       6\n",
       "28       1\n",
       "29       1\n",
       "Name: count, dtype: int64"
      ]
     },
     "execution_count": 22,
     "metadata": {},
     "output_type": "execute_result"
    }
   ],
   "source": [
    "temp = df_train.copy()\n",
    "stop_words = set(stopwords.words('english'))\n",
    "temp['stop_words'] = temp['Text'].apply(lambda x : len(set(x.split()) & set(stop_words)))\n",
    "temp['stop_words'].value_counts()"
   ]
  },
  {
   "cell_type": "code",
   "execution_count": 23,
   "metadata": {
    "execution": {
     "iopub.execute_input": "2024-10-29T05:24:37.543175Z",
     "iopub.status.busy": "2024-10-29T05:24:37.542815Z",
     "iopub.status.idle": "2024-10-29T05:24:38.010794Z",
     "shell.execute_reply": "2024-10-29T05:24:38.009385Z",
     "shell.execute_reply.started": "2024-10-29T05:24:37.543137Z"
    },
    "trusted": true
   },
   "outputs": [
    {
     "data": {
      "text/plain": [
       "<Axes: ylabel='Frequency'>"
      ]
     },
     "execution_count": 23,
     "metadata": {},
     "output_type": "execute_result"
    },
    {
     "data": {
      "image/png": "[encoded data removed]",
      "text/plain": [
       "<Figure size 640x480 with 1 Axes>"
      ]
     },
     "metadata": {},
     "output_type": "display_data"
    }
   ],
   "source": [
    "temp['stop_words'].plot(kind='hist')"
   ]
  },
  {
   "cell_type": "code",
   "execution_count": 24,
   "metadata": {
    "execution": {
     "iopub.execute_input": "2024-10-29T05:24:38.012951Z",
     "iopub.status.busy": "2024-10-29T05:24:38.012432Z",
     "iopub.status.idle": "2024-10-29T05:24:38.024369Z",
     "shell.execute_reply": "2024-10-29T05:24:38.022876Z",
     "shell.execute_reply.started": "2024-10-29T05:24:38.012894Z"
    },
    "trusted": true
   },
   "outputs": [
    {
     "data": {
      "text/plain": [
       "Emotion\n",
       "joy         695\n",
       "sadness     581\n",
       "anger       275\n",
       "fear        224\n",
       "love        159\n",
       "surprise     66\n",
       "Name: count, dtype: int64"
      ]
     },
     "execution_count": 24,
     "metadata": {},
     "output_type": "execute_result"
    }
   ],
   "source": [
    "df_test['Emotion'].value_counts()"
   ]
  },
  {
   "cell_type": "code",
   "execution_count": 25,
   "metadata": {
    "execution": {
     "iopub.execute_input": "2024-10-29T05:24:38.026567Z",
     "iopub.status.busy": "2024-10-29T05:24:38.026054Z",
     "iopub.status.idle": "2024-10-29T05:24:38.330841Z",
     "shell.execute_reply": "2024-10-29T05:24:38.329538Z",
     "shell.execute_reply.started": "2024-10-29T05:24:38.026513Z"
    },
    "trusted": true
   },
   "outputs": [
    {
     "data": {
      "text/plain": [
       "<Axes: xlabel='Emotion', ylabel='count'>"
      ]
     },
     "execution_count": 25,
     "metadata": {},
     "output_type": "execute_result"
    },
    {
     "data": {
      "image/png": "[encoded data removed]",
      "text/plain": [
       "<Figure size 800x400 with 1 Axes>"
      ]
     },
     "metadata": {},
     "output_type": "display_data"
    }
   ],
   "source": [
    "plt.figure(figsize=(8, 4))\n",
    "sns.countplot(data=df_train, x='Emotion')"
   ]
  },
  {
   "cell_type": "code",
   "execution_count": 26,
   "metadata": {
    "execution": {
     "iopub.execute_input": "2024-10-29T05:24:38.333539Z",
     "iopub.status.busy": "2024-10-29T05:24:38.332992Z",
     "iopub.status.idle": "2024-10-29T05:24:38.343774Z",
     "shell.execute_reply": "2024-10-29T05:24:38.342595Z",
     "shell.execute_reply.started": "2024-10-29T05:24:38.333480Z"
    },
    "trusted": true
   },
   "outputs": [
    {
     "data": {
      "text/plain": [
       "Text       0\n",
       "Emotion    0\n",
       "dtype: int64"
      ]
     },
     "execution_count": 26,
     "metadata": {},
     "output_type": "execute_result"
    }
   ],
   "source": [
    "df_test.isnull().sum()"
   ]
  },
  {
   "cell_type": "code",
   "execution_count": 27,
   "metadata": {
    "execution": {
     "iopub.execute_input": "2024-10-29T05:24:38.345953Z",
     "iopub.status.busy": "2024-10-29T05:24:38.345534Z",
     "iopub.status.idle": "2024-10-29T05:24:38.359591Z",
     "shell.execute_reply": "2024-10-29T05:24:38.358418Z",
     "shell.execute_reply.started": "2024-10-29T05:24:38.345892Z"
    },
    "trusted": true
   },
   "outputs": [
    {
     "data": {
      "text/plain": [
       "0"
      ]
     },
     "execution_count": 27,
     "metadata": {},
     "output_type": "execute_result"
    }
   ],
   "source": [
    "df_test.duplicated().sum()"
   ]
  },
  {
   "cell_type": "code",
   "execution_count": 28,
   "metadata": {
    "execution": {
     "iopub.execute_input": "2024-10-29T05:24:38.361369Z",
     "iopub.status.busy": "2024-10-29T05:24:38.360991Z",
     "iopub.status.idle": "2024-10-29T05:24:38.373289Z",
     "shell.execute_reply": "2024-10-29T05:24:38.371849Z",
     "shell.execute_reply.started": "2024-10-29T05:24:38.361330Z"
    },
    "trusted": true
   },
   "outputs": [
    {
     "data": {
      "text/plain": [
       "Index([], dtype='int64')"
      ]
     },
     "execution_count": 28,
     "metadata": {},
     "output_type": "execute_result"
    }
   ],
   "source": [
    "df_test[df_test['Text'].duplicated() == True].index"
   ]
  },
  {
   "cell_type": "code",
   "execution_count": 29,
   "metadata": {
    "execution": {
     "iopub.execute_input": "2024-10-29T05:24:38.375676Z",
     "iopub.status.busy": "2024-10-29T05:24:38.375168Z",
     "iopub.status.idle": "2024-10-29T05:24:38.407358Z",
     "shell.execute_reply": "2024-10-29T05:24:38.406036Z",
     "shell.execute_reply.started": "2024-10-29T05:24:38.375624Z"
    },
    "trusted": true
   },
   "outputs": [
    {
     "data": {
      "text/plain": [
       "stop_words\n",
       "7     184\n",
       "6     179\n",
       "3     175\n",
       "5     175\n",
       "4     163\n",
       "9     163\n",
       "8     139\n",
       "10    123\n",
       "2     118\n",
       "11    115\n",
       "12     84\n",
       "13     71\n",
       "15     61\n",
       "14     58\n",
       "1      42\n",
       "16     40\n",
       "17     31\n",
       "18     22\n",
       "20     17\n",
       "19     11\n",
       "21     10\n",
       "0       8\n",
       "23      7\n",
       "24      2\n",
       "22      2\n",
       "Name: count, dtype: int64"
      ]
     },
     "execution_count": 29,
     "metadata": {},
     "output_type": "execute_result"
    }
   ],
   "source": [
    "temp = df_test.copy()\n",
    "temp['stop_words'] = temp['Text'].apply(lambda x : len(set(x.split()) & set(stop_words)))\n",
    "temp['stop_words'].value_counts()"
   ]
  },
  {
   "cell_type": "code",
   "execution_count": 30,
   "metadata": {
    "execution": {
     "iopub.execute_input": "2024-10-29T05:24:38.409273Z",
     "iopub.status.busy": "2024-10-29T05:24:38.408891Z",
     "iopub.status.idle": "2024-10-29T05:24:38.801821Z",
     "shell.execute_reply": "2024-10-29T05:24:38.800560Z",
     "shell.execute_reply.started": "2024-10-29T05:24:38.409234Z"
    },
    "trusted": true
   },
   "outputs": [
    {
     "data": {
      "text/plain": [
       "<Axes: ylabel='Frequency'>"
      ]
     },
     "execution_count": 30,
     "metadata": {},
     "output_type": "execute_result"
    },
    {
     "data": {
      "image/png": "[encoded data removed]",
      "text/plain": [
       "<Figure size 640x480 with 1 Axes>"
      ]
     },
     "metadata": {},
     "output_type": "display_data"
    }
   ],
   "source": [
    "sns.set(font_scale=1.3)\n",
    "temp['stop_words'].plot(kind='hist')"
   ]
  },
  {
   "cell_type": "code",
   "execution_count": 31,
   "metadata": {
    "execution": {
     "iopub.execute_input": "2024-10-29T05:24:38.803649Z",
     "iopub.status.busy": "2024-10-29T05:24:38.803266Z",
     "iopub.status.idle": "2024-10-29T05:24:39.989735Z",
     "shell.execute_reply": "2024-10-29T05:24:39.988228Z",
     "shell.execute_reply.started": "2024-10-29T05:24:38.803610Z"
    },
    "trusted": true
   },
   "outputs": [
    {
     "name": "stdout",
     "output_type": "stream",
     "text": [
      "Python 3.12.3\n"
     ]
    }
   ],
   "source": [
    "!python --version"
   ]
  },
  {
   "cell_type": "code",
   "execution_count": 32,
   "metadata": {
    "execution": {
     "iopub.execute_input": "2024-10-29T05:24:39.991838Z",
     "iopub.status.busy": "2024-10-29T05:24:39.991422Z",
     "iopub.status.idle": "2024-10-29T05:24:40.004839Z",
     "shell.execute_reply": "2024-10-29T05:24:40.003524Z",
     "shell.execute_reply.started": "2024-10-29T05:24:39.991795Z"
    },
    "trusted": true
   },
   "outputs": [
    {
     "data": {
      "text/plain": [
       "Emotion\n",
       "joy         704\n",
       "sadness     550\n",
       "anger       275\n",
       "fear        212\n",
       "love        178\n",
       "surprise     81\n",
       "Name: count, dtype: int64"
      ]
     },
     "execution_count": 32,
     "metadata": {},
     "output_type": "execute_result"
    }
   ],
   "source": [
    "df_val['Emotion'].value_counts()"
   ]
  },
  {
   "cell_type": "code",
   "execution_count": 33,
   "metadata": {
    "execution": {
     "iopub.execute_input": "2024-10-29T05:24:40.007636Z",
     "iopub.status.busy": "2024-10-29T05:24:40.007062Z",
     "iopub.status.idle": "2024-10-29T05:24:40.339035Z",
     "shell.execute_reply": "2024-10-29T05:24:40.337691Z",
     "shell.execute_reply.started": "2024-10-29T05:24:40.007590Z"
    },
    "trusted": true
   },
   "outputs": [
    {
     "data": {
      "text/plain": [
       "<Axes: xlabel='Emotion', ylabel='count'>"
      ]
     },
     "execution_count": 33,
     "metadata": {},
     "output_type": "execute_result"
    },
    {
     "data": {
      "image/png": "[encoded data removed]",
      "text/plain": [
       "<Figure size 800x400 with 1 Axes>"
      ]
     },
     "metadata": {},
     "output_type": "display_data"
    }
   ],
   "source": [
    "plt.figure(figsize=(8, 4))\n",
    "sns.countplot(data=df_val, x='Emotion')"
   ]
  },
  {
   "cell_type": "code",
   "execution_count": 34,
   "metadata": {
    "execution": {
     "iopub.execute_input": "2024-10-29T05:24:40.341520Z",
     "iopub.status.busy": "2024-10-29T05:24:40.340985Z",
     "iopub.status.idle": "2024-10-29T05:24:40.352124Z",
     "shell.execute_reply": "2024-10-29T05:24:40.351036Z",
     "shell.execute_reply.started": "2024-10-29T05:24:40.341442Z"
    },
    "trusted": true
   },
   "outputs": [
    {
     "data": {
      "text/plain": [
       "Text       0\n",
       "Emotion    0\n",
       "dtype: int64"
      ]
     },
     "execution_count": 34,
     "metadata": {},
     "output_type": "execute_result"
    }
   ],
   "source": [
    "df_val.isnull().sum()"
   ]
  },
  {
   "cell_type": "code",
   "execution_count": 35,
   "metadata": {
    "execution": {
     "iopub.execute_input": "2024-10-29T05:24:40.354339Z",
     "iopub.status.busy": "2024-10-29T05:24:40.353858Z",
     "iopub.status.idle": "2024-10-29T05:24:40.367551Z",
     "shell.execute_reply": "2024-10-29T05:24:40.366387Z",
     "shell.execute_reply.started": "2024-10-29T05:24:40.354287Z"
    },
    "trusted": true
   },
   "outputs": [
    {
     "data": {
      "text/plain": [
       "0"
      ]
     },
     "execution_count": 35,
     "metadata": {},
     "output_type": "execute_result"
    }
   ],
   "source": [
    "df_val.duplicated().sum()"
   ]
  },
  {
   "cell_type": "code",
   "execution_count": 36,
   "metadata": {
    "execution": {
     "iopub.execute_input": "2024-10-29T05:24:40.369810Z",
     "iopub.status.busy": "2024-10-29T05:24:40.369152Z",
     "iopub.status.idle": "2024-10-29T05:24:40.382131Z",
     "shell.execute_reply": "2024-10-29T05:24:40.381008Z",
     "shell.execute_reply.started": "2024-10-29T05:24:40.369728Z"
    },
    "trusted": true
   },
   "outputs": [
    {
     "data": {
      "text/html": [
       "<div>\n",
       "<style scoped>\n",
       "    .dataframe tbody tr th:only-of-type {\n",
       "        vertical-align: middle;\n",
       "    }\n",
       "\n",
       "    .dataframe tbody tr th {\n",
       "        vertical-align: top;\n",
       "    }\n",
       "\n",
       "    .dataframe thead th {\n",
       "        text-align: right;\n",
       "    }\n",
       "</style>\n",
       "<table border=\"1\" class=\"dataframe\">\n",
       "  <thead>\n",
       "    <tr style=\"text-align: right;\">\n",
       "      <th></th>\n",
       "      <th>Text</th>\n",
       "      <th>Emotion</th>\n",
       "    </tr>\n",
       "  </thead>\n",
       "  <tbody>\n",
       "    <tr>\n",
       "      <th>603</th>\n",
       "      <td>i have had several new members tell me how com...</td>\n",
       "      <td>joy</td>\n",
       "    </tr>\n",
       "    <tr>\n",
       "      <th>1993</th>\n",
       "      <td>i feel so tortured by it</td>\n",
       "      <td>anger</td>\n",
       "    </tr>\n",
       "  </tbody>\n",
       "</table>\n",
       "</div>"
      ],
      "text/plain": [
       "                                                   Text Emotion\n",
       "603   i have had several new members tell me how com...     joy\n",
       "1993                           i feel so tortured by it   anger"
      ]
     },
     "execution_count": 36,
     "metadata": {},
     "output_type": "execute_result"
    }
   ],
   "source": [
    "df_val[df_val['Text'].duplicated() == True]"
   ]
  },
  {
   "cell_type": "code",
   "execution_count": 37,
   "metadata": {
    "execution": {
     "iopub.execute_input": "2024-10-29T05:24:40.384252Z",
     "iopub.status.busy": "2024-10-29T05:24:40.383703Z",
     "iopub.status.idle": "2024-10-29T05:24:40.399086Z",
     "shell.execute_reply": "2024-10-29T05:24:40.397919Z",
     "shell.execute_reply.started": "2024-10-29T05:24:40.384208Z"
    },
    "trusted": true
   },
   "outputs": [
    {
     "data": {
      "text/html": [
       "<div>\n",
       "<style scoped>\n",
       "    .dataframe tbody tr th:only-of-type {\n",
       "        vertical-align: middle;\n",
       "    }\n",
       "\n",
       "    .dataframe tbody tr th {\n",
       "        vertical-align: top;\n",
       "    }\n",
       "\n",
       "    .dataframe thead th {\n",
       "        text-align: right;\n",
       "    }\n",
       "</style>\n",
       "<table border=\"1\" class=\"dataframe\">\n",
       "  <thead>\n",
       "    <tr style=\"text-align: right;\">\n",
       "      <th></th>\n",
       "      <th>Text</th>\n",
       "      <th>Emotion</th>\n",
       "    </tr>\n",
       "  </thead>\n",
       "  <tbody>\n",
       "    <tr>\n",
       "      <th>300</th>\n",
       "      <td>i have had several new members tell me how com...</td>\n",
       "      <td>love</td>\n",
       "    </tr>\n",
       "    <tr>\n",
       "      <th>603</th>\n",
       "      <td>i have had several new members tell me how com...</td>\n",
       "      <td>joy</td>\n",
       "    </tr>\n",
       "  </tbody>\n",
       "</table>\n",
       "</div>"
      ],
      "text/plain": [
       "                                                  Text Emotion\n",
       "300  i have had several new members tell me how com...    love\n",
       "603  i have had several new members tell me how com...     joy"
      ]
     },
     "execution_count": 37,
     "metadata": {},
     "output_type": "execute_result"
    }
   ],
   "source": [
    "df_val[df_val['Text'] == df_val.iloc[603]['Text']] "
   ]
  },
  {
   "cell_type": "code",
   "execution_count": 38,
   "metadata": {
    "execution": {
     "iopub.execute_input": "2024-10-29T05:24:40.400935Z",
     "iopub.status.busy": "2024-10-29T05:24:40.400562Z",
     "iopub.status.idle": "2024-10-29T05:24:40.417258Z",
     "shell.execute_reply": "2024-10-29T05:24:40.416064Z",
     "shell.execute_reply.started": "2024-10-29T05:24:40.400896Z"
    },
    "trusted": true
   },
   "outputs": [
    {
     "data": {
      "text/html": [
       "<div>\n",
       "<style scoped>\n",
       "    .dataframe tbody tr th:only-of-type {\n",
       "        vertical-align: middle;\n",
       "    }\n",
       "\n",
       "    .dataframe tbody tr th {\n",
       "        vertical-align: top;\n",
       "    }\n",
       "\n",
       "    .dataframe thead th {\n",
       "        text-align: right;\n",
       "    }\n",
       "</style>\n",
       "<table border=\"1\" class=\"dataframe\">\n",
       "  <thead>\n",
       "    <tr style=\"text-align: right;\">\n",
       "      <th></th>\n",
       "      <th>Text</th>\n",
       "      <th>Emotion</th>\n",
       "    </tr>\n",
       "  </thead>\n",
       "  <tbody>\n",
       "    <tr>\n",
       "      <th>774</th>\n",
       "      <td>i feel so tortured by it</td>\n",
       "      <td>fear</td>\n",
       "    </tr>\n",
       "    <tr>\n",
       "      <th>1993</th>\n",
       "      <td>i feel so tortured by it</td>\n",
       "      <td>anger</td>\n",
       "    </tr>\n",
       "  </tbody>\n",
       "</table>\n",
       "</div>"
      ],
      "text/plain": [
       "                          Text Emotion\n",
       "774   i feel so tortured by it    fear\n",
       "1993  i feel so tortured by it   anger"
      ]
     },
     "execution_count": 38,
     "metadata": {},
     "output_type": "execute_result"
    }
   ],
   "source": [
    "df_val[df_val['Text'] == df_val.iloc[1993]['Text']] "
   ]
  },
  {
   "cell_type": "code",
   "execution_count": 39,
   "metadata": {
    "execution": {
     "iopub.execute_input": "2024-10-29T05:24:40.419510Z",
     "iopub.status.busy": "2024-10-29T05:24:40.419045Z",
     "iopub.status.idle": "2024-10-29T05:24:40.433764Z",
     "shell.execute_reply": "2024-10-29T05:24:40.432494Z",
     "shell.execute_reply.started": "2024-10-29T05:24:40.419429Z"
    },
    "trusted": true
   },
   "outputs": [],
   "source": [
    "index = df_val[df_val['Text'].duplicated() == True].index\n",
    "df_val.drop(index, axis=0, inplace=True)\n",
    "df_val.reset_index(inplace=True, drop=True)"
   ]
  },
  {
   "cell_type": "code",
   "execution_count": 40,
   "metadata": {
    "execution": {
     "iopub.execute_input": "2024-10-29T05:24:40.445980Z",
     "iopub.status.busy": "2024-10-29T05:24:40.445403Z",
     "iopub.status.idle": "2024-10-29T05:24:40.457156Z",
     "shell.execute_reply": "2024-10-29T05:24:40.455796Z",
     "shell.execute_reply.started": "2024-10-29T05:24:40.445937Z"
    },
    "trusted": true
   },
   "outputs": [
    {
     "data": {
      "text/html": [
       "<div>\n",
       "<style scoped>\n",
       "    .dataframe tbody tr th:only-of-type {\n",
       "        vertical-align: middle;\n",
       "    }\n",
       "\n",
       "    .dataframe tbody tr th {\n",
       "        vertical-align: top;\n",
       "    }\n",
       "\n",
       "    .dataframe thead th {\n",
       "        text-align: right;\n",
       "    }\n",
       "</style>\n",
       "<table border=\"1\" class=\"dataframe\">\n",
       "  <thead>\n",
       "    <tr style=\"text-align: right;\">\n",
       "      <th></th>\n",
       "      <th>Text</th>\n",
       "      <th>Emotion</th>\n",
       "    </tr>\n",
       "  </thead>\n",
       "  <tbody>\n",
       "  </tbody>\n",
       "</table>\n",
       "</div>"
      ],
      "text/plain": [
       "Empty DataFrame\n",
       "Columns: [Text, Emotion]\n",
       "Index: []"
      ]
     },
     "execution_count": 40,
     "metadata": {},
     "output_type": "execute_result"
    }
   ],
   "source": [
    "df_val[df_val['Text'].duplicated() == True]"
   ]
  },
  {
   "cell_type": "code",
   "execution_count": 41,
   "metadata": {
    "execution": {
     "iopub.execute_input": "2024-10-29T05:24:40.459291Z",
     "iopub.status.busy": "2024-10-29T05:24:40.458818Z",
     "iopub.status.idle": "2024-10-29T05:24:40.490652Z",
     "shell.execute_reply": "2024-10-29T05:24:40.489585Z",
     "shell.execute_reply.started": "2024-10-29T05:24:40.459238Z"
    },
    "trusted": true
   },
   "outputs": [
    {
     "data": {
      "text/plain": [
       "stop_words\n",
       "7     190\n",
       "5     175\n",
       "8     173\n",
       "6     160\n",
       "3     160\n",
       "10    150\n",
       "9     146\n",
       "4     145\n",
       "2     133\n",
       "11    103\n",
       "12     76\n",
       "13     74\n",
       "1      64\n",
       "14     63\n",
       "15     44\n",
       "16     36\n",
       "17     31\n",
       "18     21\n",
       "19     16\n",
       "20     16\n",
       "0      11\n",
       "21      6\n",
       "22      3\n",
       "23      2\n",
       "Name: count, dtype: int64"
      ]
     },
     "execution_count": 41,
     "metadata": {},
     "output_type": "execute_result"
    }
   ],
   "source": [
    "temp = df_val.copy()\n",
    "temp['stop_words'] = temp['Text'].apply(lambda x : len(set(stop_words) & set(x.split())))\n",
    "temp['stop_words'].value_counts()"
   ]
  },
  {
   "cell_type": "code",
   "execution_count": 42,
   "metadata": {
    "execution": {
     "iopub.execute_input": "2024-10-29T05:24:40.493067Z",
     "iopub.status.busy": "2024-10-29T05:24:40.492195Z",
     "iopub.status.idle": "2024-10-29T05:24:40.823528Z",
     "shell.execute_reply": "2024-10-29T05:24:40.822209Z",
     "shell.execute_reply.started": "2024-10-29T05:24:40.493012Z"
    },
    "trusted": true
   },
   "outputs": [
    {
     "data": {
      "text/plain": [
       "<Axes: ylabel='Frequency'>"
      ]
     },
     "execution_count": 42,
     "metadata": {},
     "output_type": "execute_result"
    },
    {
     "data": {
      "image/png": "[encoded data removed]",
      "text/plain": [
       "<Figure size 640x480 with 1 Axes>"
      ]
     },
     "metadata": {},
     "output_type": "display_data"
    }
   ],
   "source": [
    "sns.set(font_scale=1.3)\n",
    "temp['stop_words'].plot(kind='hist')"
   ]
  },
  {
   "cell_type": "code",
   "execution_count": 43,
   "metadata": {
    "execution": {
     "iopub.execute_input": "2024-10-29T05:24:40.826477Z",
     "iopub.status.busy": "2024-10-29T05:24:40.825677Z",
     "iopub.status.idle": "2024-10-29T05:24:40.833559Z",
     "shell.execute_reply": "2024-10-29T05:24:40.832481Z",
     "shell.execute_reply.started": "2024-10-29T05:24:40.826401Z"
    },
    "trusted": true
   },
   "outputs": [],
   "source": [
    "def dataframe_difference(df1, df2, which=None):\n",
    "    comparision_df = df1.merge(\n",
    "        df2, \n",
    "        indicator=True,\n",
    "        how='outer'\n",
    "    )\n",
    "    \n",
    "    if which is None:\n",
    "        diff_df = comparision_df[comparision_df['_merge'] != 'both']\n",
    "    else:\n",
    "        diff_df = comparision_df[comparision_df['_merge'] == which]\n",
    "        \n",
    "    return diff_df"
   ]
  },
  {
   "cell_type": "code",
   "execution_count": 44,
   "metadata": {
    "execution": {
     "iopub.execute_input": "2024-10-29T05:24:40.835669Z",
     "iopub.status.busy": "2024-10-29T05:24:40.835151Z",
     "iopub.status.idle": "2024-10-29T05:24:40.926362Z",
     "shell.execute_reply": "2024-10-29T05:24:40.924868Z",
     "shell.execute_reply.started": "2024-10-29T05:24:40.835617Z"
    },
    "trusted": true
   },
   "outputs": [
    {
     "data": {
      "text/html": [
       "<div>\n",
       "<style scoped>\n",
       "    .dataframe tbody tr th:only-of-type {\n",
       "        vertical-align: middle;\n",
       "    }\n",
       "\n",
       "    .dataframe tbody tr th {\n",
       "        vertical-align: top;\n",
       "    }\n",
       "\n",
       "    .dataframe thead th {\n",
       "        text-align: right;\n",
       "    }\n",
       "</style>\n",
       "<table border=\"1\" class=\"dataframe\">\n",
       "  <thead>\n",
       "    <tr style=\"text-align: right;\">\n",
       "      <th></th>\n",
       "      <th>Text</th>\n",
       "      <th>Emotion</th>\n",
       "      <th>_merge</th>\n",
       "    </tr>\n",
       "  </thead>\n",
       "  <tbody>\n",
       "  </tbody>\n",
       "</table>\n",
       "</div>"
      ],
      "text/plain": [
       "Empty DataFrame\n",
       "Columns: [Text, Emotion, _merge]\n",
       "Index: []"
      ]
     },
     "execution_count": 44,
     "metadata": {},
     "output_type": "execute_result"
    }
   ],
   "source": [
    "dataframe_difference(df_train, df_test, 'both')"
   ]
  },
  {
   "cell_type": "code",
   "execution_count": 45,
   "metadata": {
    "execution": {
     "iopub.execute_input": "2024-10-29T05:24:40.928726Z",
     "iopub.status.busy": "2024-10-29T05:24:40.928200Z",
     "iopub.status.idle": "2024-10-29T05:24:41.003962Z",
     "shell.execute_reply": "2024-10-29T05:24:41.002815Z",
     "shell.execute_reply.started": "2024-10-29T05:24:40.928660Z"
    },
    "trusted": true
   },
   "outputs": [
    {
     "data": {
      "text/html": [
       "<div>\n",
       "<style scoped>\n",
       "    .dataframe tbody tr th:only-of-type {\n",
       "        vertical-align: middle;\n",
       "    }\n",
       "\n",
       "    .dataframe tbody tr th {\n",
       "        vertical-align: top;\n",
       "    }\n",
       "\n",
       "    .dataframe thead th {\n",
       "        text-align: right;\n",
       "    }\n",
       "</style>\n",
       "<table border=\"1\" class=\"dataframe\">\n",
       "  <thead>\n",
       "    <tr style=\"text-align: right;\">\n",
       "      <th></th>\n",
       "      <th>Text</th>\n",
       "      <th>Emotion</th>\n",
       "      <th>_merge</th>\n",
       "    </tr>\n",
       "  </thead>\n",
       "  <tbody>\n",
       "  </tbody>\n",
       "</table>\n",
       "</div>"
      ],
      "text/plain": [
       "Empty DataFrame\n",
       "Columns: [Text, Emotion, _merge]\n",
       "Index: []"
      ]
     },
     "execution_count": 45,
     "metadata": {},
     "output_type": "execute_result"
    }
   ],
   "source": [
    "dataframe_difference(df_train, df_val, which='both')"
   ]
  },
  {
   "cell_type": "code",
   "execution_count": 46,
   "metadata": {
    "execution": {
     "iopub.execute_input": "2024-10-29T05:24:41.005805Z",
     "iopub.status.busy": "2024-10-29T05:24:41.005284Z",
     "iopub.status.idle": "2024-10-29T05:24:41.041159Z",
     "shell.execute_reply": "2024-10-29T05:24:41.039983Z",
     "shell.execute_reply.started": "2024-10-29T05:24:41.005755Z"
    },
    "trusted": true
   },
   "outputs": [
    {
     "data": {
      "text/html": [
       "<div>\n",
       "<style scoped>\n",
       "    .dataframe tbody tr th:only-of-type {\n",
       "        vertical-align: middle;\n",
       "    }\n",
       "\n",
       "    .dataframe tbody tr th {\n",
       "        vertical-align: top;\n",
       "    }\n",
       "\n",
       "    .dataframe thead th {\n",
       "        text-align: right;\n",
       "    }\n",
       "</style>\n",
       "<table border=\"1\" class=\"dataframe\">\n",
       "  <thead>\n",
       "    <tr style=\"text-align: right;\">\n",
       "      <th></th>\n",
       "      <th>Text</th>\n",
       "      <th>Emotion</th>\n",
       "      <th>_merge</th>\n",
       "    </tr>\n",
       "  </thead>\n",
       "  <tbody>\n",
       "  </tbody>\n",
       "</table>\n",
       "</div>"
      ],
      "text/plain": [
       "Empty DataFrame\n",
       "Columns: [Text, Emotion, _merge]\n",
       "Index: []"
      ]
     },
     "execution_count": 46,
     "metadata": {},
     "output_type": "execute_result"
    }
   ],
   "source": [
    "dataframe_difference(df_val, df_test, which='both')"
   ]
  },
  {
   "cell_type": "code",
   "execution_count": 47,
   "metadata": {},
   "outputs": [
    {
     "name": "stderr",
     "output_type": "stream",
     "text": [
      "[nltk_data] Downloading package omw-1.4 to\n",
      "[nltk_data]     C:\\Users\\anshs\\AppData\\Roaming\\nltk_data...\n",
      "[nltk_data]   Package omw-1.4 is already up-to-date!\n",
      "[nltk_data] Downloading package wordnet to\n",
      "[nltk_data]     C:\\Users\\anshs\\AppData\\Roaming\\nltk_data...\n",
      "[nltk_data]   Package wordnet is already up-to-date!\n"
     ]
    }
   ],
   "source": [
    "import nltk\n",
    "nltk.download('omw-1.4')\n",
    "nltk.download('wordnet')  # Add this line to download WordNet\n",
    "\n",
    "lemmatizer = WordNetLemmatizer()\n"
   ]
  },
  {
   "cell_type": "code",
   "execution_count": 48,
   "metadata": {
    "execution": {
     "iopub.execute_input": "2024-10-29T05:24:41.043106Z",
     "iopub.status.busy": "2024-10-29T05:24:41.042721Z",
     "iopub.status.idle": "2024-10-29T05:24:41.060670Z",
     "shell.execute_reply": "2024-10-29T05:24:41.059512Z",
     "shell.execute_reply.started": "2024-10-29T05:24:41.043067Z"
    },
    "trusted": true
   },
   "outputs": [
    {
     "name": "stderr",
     "output_type": "stream",
     "text": [
      "<>:29: SyntaxWarning: invalid escape sequence '\\]'\n",
      "<>:33: SyntaxWarning: invalid escape sequence '\\s'\n",
      "<>:29: SyntaxWarning: invalid escape sequence '\\]'\n",
      "<>:33: SyntaxWarning: invalid escape sequence '\\s'\n",
      "C:\\Users\\anshs\\AppData\\Local\\Temp\\ipykernel_19544\\1722713920.py:29: SyntaxWarning: invalid escape sequence '\\]'\n",
      "  text = re.sub('[%s]' % re.escape(\"\"\"!\"#$%&'()*+,،-./:;<=>؟?@[\\]^_`{|}~\"\"\"), ' ', text)\n",
      "C:\\Users\\anshs\\AppData\\Local\\Temp\\ipykernel_19544\\1722713920.py:33: SyntaxWarning: invalid escape sequence '\\s'\n",
      "  text = re.sub('\\s+', ' ', text)\n"
     ]
    }
   ],
   "source": [
    "def lemmatization(text):\n",
    "    lemmatizer= WordNetLemmatizer()\n",
    "\n",
    "    text = text.split()\n",
    "\n",
    "    text=[lemmatizer.lemmatize(y) for y in text]\n",
    "    \n",
    "    return \" \" .join(text)\n",
    "\n",
    "def remove_stop_words(text):\n",
    "\n",
    "    Text=[i for i in str(text).split() if i not in stop_words]\n",
    "    return \" \".join(Text)\n",
    "\n",
    "def Removing_numbers(text):\n",
    "    text=''.join([i for i in text if not i.isdigit()])\n",
    "    return text\n",
    "\n",
    "def lower_case(text):\n",
    "    \n",
    "    text = text.split()\n",
    "\n",
    "    text=[y.lower() for y in text]\n",
    "    \n",
    "    return \" \" .join(text)\n",
    "\n",
    "def Removing_punctuations(text):\n",
    "    ## Remove punctuations\n",
    "    text = re.sub('[%s]' % re.escape(\"\"\"!\"#$%&'()*+,،-./:;<=>؟?@[\\]^_`{|}~\"\"\"), ' ', text)\n",
    "    text = text.replace('؛',\"\", )\n",
    "    \n",
    "    ## remove extra whitespace\n",
    "    text = re.sub('\\s+', ' ', text)\n",
    "    text =  \" \".join(text.split())\n",
    "    return text.strip()\n",
    "\n",
    "def Removing_urls(text):\n",
    "    url_pattern = re.compile(r'https?://\\S+|www\\.\\S+')\n",
    "    return url_pattern.sub(r'', text)\n",
    "\n",
    "def remove_small_sentences(df):\n",
    "    for i in range(len(df)):\n",
    "        if len(df.text.iloc[i].split()) < 3:\n",
    "            df.text.iloc[i] = np.nan\n",
    "            \n",
    "def normalize_text(df):\n",
    "    df.Text=df.Text.apply(lambda text : lower_case(text))\n",
    "    df.Text=df.Text.apply(lambda text : remove_stop_words(text))\n",
    "    df.Text=df.Text.apply(lambda text : Removing_numbers(text))\n",
    "    df.Text=df.Text.apply(lambda text : Removing_punctuations(text))\n",
    "    df.Text=df.Text.apply(lambda text : Removing_urls(text))\n",
    "    df.Text=df.Text.apply(lambda text : lemmatization(text))\n",
    "    return df\n",
    "\n",
    "def normalized_sentence(sentence):\n",
    "    sentence= lower_case(sentence)\n",
    "    sentence= remove_stop_words(sentence)\n",
    "    sentence= Removing_numbers(sentence)\n",
    "    sentence= Removing_punctuations(sentence)\n",
    "    sentence= Removing_urls(sentence)\n",
    "    sentence= lemmatization(sentence)\n",
    "    return sentence"
   ]
  },
  {
   "cell_type": "code",
   "execution_count": 49,
   "metadata": {
    "execution": {
     "iopub.execute_input": "2024-10-29T05:24:41.062614Z",
     "iopub.status.busy": "2024-10-29T05:24:41.062236Z",
     "iopub.status.idle": "2024-10-29T05:24:42.614209Z",
     "shell.execute_reply": "2024-10-29T05:24:42.612759Z",
     "shell.execute_reply.started": "2024-10-29T05:24:41.062576Z"
    },
    "trusted": true
   },
   "outputs": [
    {
     "name": "stderr",
     "output_type": "stream",
     "text": [
      "unzip:  cannot find or open /usr/share/nltk_data/corpora/wordnet.zip, /usr/share/nltk_data/corpora/wordnet.zip.zip or /usr/share/nltk_data/corpora/wordnet.zip.ZIP.\n"
     ]
    }
   ],
   "source": [
    "!unzip /usr/share/nltk_data/corpora/wordnet.zip -d /usr/share/nltk_data/corpora/"
   ]
  },
  {
   "cell_type": "code",
   "execution_count": 50,
   "metadata": {
    "execution": {
     "iopub.execute_input": "2024-10-29T05:24:42.617018Z",
     "iopub.status.busy": "2024-10-29T05:24:42.616412Z",
     "iopub.status.idle": "2024-10-29T05:24:45.274402Z",
     "shell.execute_reply": "2024-10-29T05:24:45.273124Z",
     "shell.execute_reply.started": "2024-10-29T05:24:42.616946Z"
    },
    "trusted": true
   },
   "outputs": [
    {
     "data": {
      "text/plain": [
       "'name mohamed tweet play egypt'"
      ]
     },
     "execution_count": 50,
     "metadata": {},
     "output_type": "execute_result"
    }
   ],
   "source": [
    "normalized_sentence(\"My Name is Mohamed. @Tweets,  plays 2022  Egypt_\")"
   ]
  },
  {
   "cell_type": "code",
   "execution_count": 51,
   "metadata": {
    "execution": {
     "iopub.execute_input": "2024-10-29T05:24:45.276157Z",
     "iopub.status.busy": "2024-10-29T05:24:45.275785Z",
     "iopub.status.idle": "2024-10-29T05:24:47.457243Z",
     "shell.execute_reply": "2024-10-29T05:24:47.456039Z",
     "shell.execute_reply.started": "2024-10-29T05:24:45.276119Z"
    },
    "trusted": true
   },
   "outputs": [],
   "source": [
    "df_train= normalize_text(df_train)\n",
    "df_test= normalize_text(df_test)\n",
    "df_val= normalize_text(df_val)\n"
   ]
  },
  {
   "cell_type": "code",
   "execution_count": 52,
   "metadata": {
    "execution": {
     "iopub.execute_input": "2024-10-29T05:24:47.459030Z",
     "iopub.status.busy": "2024-10-29T05:24:47.458659Z",
     "iopub.status.idle": "2024-10-29T05:24:47.470730Z",
     "shell.execute_reply": "2024-10-29T05:24:47.469513Z",
     "shell.execute_reply.started": "2024-10-29T05:24:47.458990Z"
    },
    "trusted": true
   },
   "outputs": [
    {
     "data": {
      "text/html": [
       "<div>\n",
       "<style scoped>\n",
       "    .dataframe tbody tr th:only-of-type {\n",
       "        vertical-align: middle;\n",
       "    }\n",
       "\n",
       "    .dataframe tbody tr th {\n",
       "        vertical-align: top;\n",
       "    }\n",
       "\n",
       "    .dataframe thead th {\n",
       "        text-align: right;\n",
       "    }\n",
       "</style>\n",
       "<table border=\"1\" class=\"dataframe\">\n",
       "  <thead>\n",
       "    <tr style=\"text-align: right;\">\n",
       "      <th></th>\n",
       "      <th>Text</th>\n",
       "      <th>Emotion</th>\n",
       "    </tr>\n",
       "  </thead>\n",
       "  <tbody>\n",
       "    <tr>\n",
       "      <th>0</th>\n",
       "      <td>didnt feel humiliated</td>\n",
       "      <td>sadness</td>\n",
       "    </tr>\n",
       "    <tr>\n",
       "      <th>1</th>\n",
       "      <td>go feeling hopeless damned hopeful around some...</td>\n",
       "      <td>sadness</td>\n",
       "    </tr>\n",
       "    <tr>\n",
       "      <th>2</th>\n",
       "      <td>im grabbing minute post feel greedy wrong</td>\n",
       "      <td>anger</td>\n",
       "    </tr>\n",
       "    <tr>\n",
       "      <th>3</th>\n",
       "      <td>ever feeling nostalgic fireplace know still pr...</td>\n",
       "      <td>love</td>\n",
       "    </tr>\n",
       "    <tr>\n",
       "      <th>4</th>\n",
       "      <td>feeling grouchy</td>\n",
       "      <td>anger</td>\n",
       "    </tr>\n",
       "  </tbody>\n",
       "</table>\n",
       "</div>"
      ],
      "text/plain": [
       "                                                Text  Emotion\n",
       "0                              didnt feel humiliated  sadness\n",
       "1  go feeling hopeless damned hopeful around some...  sadness\n",
       "2          im grabbing minute post feel greedy wrong    anger\n",
       "3  ever feeling nostalgic fireplace know still pr...     love\n",
       "4                                    feeling grouchy    anger"
      ]
     },
     "execution_count": 52,
     "metadata": {},
     "output_type": "execute_result"
    }
   ],
   "source": [
    "df_train.head()"
   ]
  },
  {
   "cell_type": "code",
   "execution_count": 53,
   "metadata": {
    "execution": {
     "iopub.execute_input": "2024-10-29T05:24:47.472789Z",
     "iopub.status.busy": "2024-10-29T05:24:47.472356Z",
     "iopub.status.idle": "2024-10-29T05:24:47.493532Z",
     "shell.execute_reply": "2024-10-29T05:24:47.492280Z",
     "shell.execute_reply.started": "2024-10-29T05:24:47.472749Z"
    },
    "trusted": true
   },
   "outputs": [],
   "source": [
    "X_train = df_train['Text']\n",
    "y_train = df_train['Emotion']\n",
    "\n",
    "X_test = df_test['Text']\n",
    "y_test = df_test['Emotion']\n",
    "\n",
    "X_val = df_val['Text']\n",
    "y_val = df_val['Emotion']"
   ]
  },
  {
   "cell_type": "code",
   "execution_count": 54,
   "metadata": {
    "execution": {
     "iopub.execute_input": "2024-10-29T05:24:47.495592Z",
     "iopub.status.busy": "2024-10-29T05:24:47.495142Z",
     "iopub.status.idle": "2024-10-29T05:24:47.512253Z",
     "shell.execute_reply": "2024-10-29T05:24:47.510860Z",
     "shell.execute_reply.started": "2024-10-29T05:24:47.495552Z"
    },
    "trusted": true
   },
   "outputs": [],
   "source": [
    "le = LabelEncoder()\n",
    "y_train = le.fit_transform(y_train)\n",
    "y_test = le.transform(y_test)\n",
    "y_val = le.transform(y_val)"
   ]
  },
  {
   "cell_type": "code",
   "execution_count": 55,
   "metadata": {
    "execution": {
     "iopub.execute_input": "2024-10-29T05:24:47.514234Z",
     "iopub.status.busy": "2024-10-29T05:24:47.513711Z",
     "iopub.status.idle": "2024-10-29T05:24:47.528017Z",
     "shell.execute_reply": "2024-10-29T05:24:47.526704Z",
     "shell.execute_reply.started": "2024-10-29T05:24:47.514186Z"
    },
    "trusted": true
   },
   "outputs": [
    {
     "name": "stdout",
     "output_type": "stream",
     "text": [
      "{0, 1, 2, 3, 4, 5}\n"
     ]
    }
   ],
   "source": [
    "print(set(y_train))"
   ]
  },
  {
   "cell_type": "code",
   "execution_count": 56,
   "metadata": {
    "execution": {
     "iopub.execute_input": "2024-10-29T05:24:47.530432Z",
     "iopub.status.busy": "2024-10-29T05:24:47.529864Z",
     "iopub.status.idle": "2024-10-29T05:24:47.539250Z",
     "shell.execute_reply": "2024-10-29T05:24:47.538005Z",
     "shell.execute_reply.started": "2024-10-29T05:24:47.530377Z"
    },
    "trusted": true
   },
   "outputs": [],
   "source": [
    "y_train = to_categorical(y_train)\n",
    "y_test = to_categorical(y_test)\n",
    "y_val = to_categorical(y_val)"
   ]
  },
  {
   "cell_type": "code",
   "execution_count": 57,
   "metadata": {
    "execution": {
     "iopub.execute_input": "2024-10-29T05:24:47.541059Z",
     "iopub.status.busy": "2024-10-29T05:24:47.540639Z",
     "iopub.status.idle": "2024-10-29T05:24:47.937008Z",
     "shell.execute_reply": "2024-10-29T05:24:47.935672Z",
     "shell.execute_reply.started": "2024-10-29T05:24:47.541007Z"
    },
    "trusted": true
   },
   "outputs": [],
   "source": [
    "tokenizer = Tokenizer(oov_token='UNK')\n",
    "tokenizer.fit_on_texts(pd.concat([X_train, X_test], axis=0))"
   ]
  },
  {
   "cell_type": "code",
   "execution_count": 58,
   "metadata": {
    "trusted": true
   },
   "outputs": [
    {
     "data": {
      "text/plain": [
       "OrderedDict([('didnt', 304),\n",
       "             ('feel', 12920),\n",
       "             ('humiliated', 59),\n",
       "             ('go', 492),\n",
       "             ('feeling', 6139),\n",
       "             ('hopeless', 68),\n",
       "             ('damned', 4),\n",
       "             ('hopeful', 67),\n",
       "             ('around', 347),\n",
       "             ('someone', 295),\n",
       "             ('care', 132),\n",
       "             ('awake', 21),\n",
       "             ('im', 2736),\n",
       "             ('grabbing', 6),\n",
       "             ('minute', 71),\n",
       "             ('post', 146),\n",
       "             ('greedy', 75),\n",
       "             ('wrong', 85),\n",
       "             ('ever', 247),\n",
       "             ('nostalgic', 55),\n",
       "             ('fireplace', 3),\n",
       "             ('know', 977),\n",
       "             ('still', 660),\n",
       "             ('property', 4),\n",
       "             ('grouchy', 29),\n",
       "             ('ive', 659),\n",
       "             ('little', 831),\n",
       "             ('burdened', 67),\n",
       "             ('lately', 107),\n",
       "             ('wasnt', 107),\n",
       "             ('sure', 270),\n",
       "             ('taking', 102),\n",
       "             ('milligram', 1),\n",
       "             ('time', 1090),\n",
       "             ('recommended', 1),\n",
       "             ('amount', 42),\n",
       "             ('fallen', 7),\n",
       "             ('asleep', 19),\n",
       "             ('lot', 301),\n",
       "             ('faster', 13),\n",
       "             ('also', 381),\n",
       "             ('like', 3288),\n",
       "             ('funny', 76),\n",
       "             ('confused', 78),\n",
       "             ('life', 680),\n",
       "             ('teenager', 19),\n",
       "             ('jaded', 46),\n",
       "             ('year', 374),\n",
       "             ('old', 137),\n",
       "             ('man', 93),\n",
       "             ('petronas', 2),\n",
       "             ('performed', 2),\n",
       "             ('well', 308),\n",
       "             ('made', 335),\n",
       "             ('huge', 32),\n",
       "             ('profit', 5),\n",
       "             ('romantic', 56),\n",
       "             ('make', 862),\n",
       "             ('suffering', 52),\n",
       "             ('seeing', 66),\n",
       "             ('mean', 156),\n",
       "             ('something', 568),\n",
       "             ('running', 75),\n",
       "             ('divine', 68),\n",
       "             ('experience', 100),\n",
       "             ('expect', 33),\n",
       "             ('type', 50),\n",
       "             ('spiritual', 12),\n",
       "             ('encounter', 7),\n",
       "             ('think', 677),\n",
       "             ('easiest', 2),\n",
       "             ('dissatisfied', 61),\n",
       "             ('low', 99),\n",
       "             ('energy', 77),\n",
       "             ('thirsty', 3),\n",
       "             ('immense', 3),\n",
       "             ('sympathy', 16),\n",
       "             ('general', 33),\n",
       "             ('point', 162),\n",
       "             ('possible', 46),\n",
       "             ('proto', 1),\n",
       "             ('writer', 31),\n",
       "             ('trying', 216),\n",
       "             ('find', 255),\n",
       "             ('write', 163),\n",
       "             ('corner', 16),\n",
       "             ('sign', 16),\n",
       "             ('agent', 4),\n",
       "             ('let', 209),\n",
       "             ('alone', 182),\n",
       "             ('publishing', 7),\n",
       "             ('contract', 5),\n",
       "             ('precious', 68),\n",
       "             ('reassured', 46),\n",
       "             ('anxiety', 32),\n",
       "             ('side', 80),\n",
       "             ('really', 1059),\n",
       "             ('embarrassed', 80),\n",
       "             ('pretty', 436),\n",
       "             ('pathetic', 62),\n",
       "             ('started', 206),\n",
       "             ('sentimental', 37),\n",
       "             ('doll', 7),\n",
       "             ('child', 186),\n",
       "             ('began', 64),\n",
       "             ('collection', 11),\n",
       "             ('vintage', 9),\n",
       "             ('barbie', 2),\n",
       "             ('sixty', 2),\n",
       "             ('compromised', 4),\n",
       "             ('skeptical', 39),\n",
       "             ('value', 24),\n",
       "             ('every', 282),\n",
       "             ('unit', 5),\n",
       "             ('work', 392),\n",
       "             ('put', 157),\n",
       "             ('irritated', 73),\n",
       "             ('rejected', 67),\n",
       "             ('without', 234),\n",
       "             ('anyone', 145),\n",
       "             ('anything', 251),\n",
       "             ('saying', 93),\n",
       "             ('completely', 133),\n",
       "             ('overwhelmed', 158),\n",
       "             ('two', 166),\n",
       "             ('strategy', 8),\n",
       "             ('help', 316),\n",
       "             ('grounded', 11),\n",
       "             ('pour', 7),\n",
       "             ('heart', 184),\n",
       "             ('journal', 14),\n",
       "             ('form', 19),\n",
       "             ('letter', 27),\n",
       "             ('god', 172),\n",
       "             ('end', 174),\n",
       "             ('list', 57),\n",
       "             ('five', 30),\n",
       "             ('thing', 754),\n",
       "             ('grateful', 51),\n",
       "             ('amused', 37),\n",
       "             ('delighted', 37),\n",
       "             ('able', 198),\n",
       "             ('chai', 2),\n",
       "             ('lifeline', 2),\n",
       "             ('support', 66),\n",
       "             ('encouragement', 5),\n",
       "             ('great', 120),\n",
       "             ('glad', 105),\n",
       "             ('already', 179),\n",
       "             ('fucked', 68),\n",
       "             ('though', 320),\n",
       "             ('dont', 539),\n",
       "             ('usually', 80),\n",
       "             ('eat', 73),\n",
       "             ('morning', 166),\n",
       "             ('love', 568),\n",
       "             ('wish', 107),\n",
       "             ('best', 116),\n",
       "             ('longer', 75),\n",
       "             ('tolerate', 5),\n",
       "             ('effect', 35),\n",
       "             ('bm', 1),\n",
       "             ('fact', 127),\n",
       "             ('turned', 21),\n",
       "             ('bitter', 61),\n",
       "             ('angry', 144),\n",
       "             ('person', 245),\n",
       "             ('always', 407),\n",
       "             ('particularly', 97),\n",
       "             ('kind', 248),\n",
       "             ('people', 763),\n",
       "             ('stressed', 159),\n",
       "             ('inhibited', 31),\n",
       "             ('el', 10),\n",
       "             ('kitchen', 16),\n",
       "             ('painting', 16),\n",
       "             ('picture', 60),\n",
       "             ('become', 105),\n",
       "             ('defeated', 59),\n",
       "             ('kinda', 67),\n",
       "             ('appalled', 15),\n",
       "             ('need', 486),\n",
       "             ('explain', 36),\n",
       "             ('wide', 8),\n",
       "             ('lenghth', 1),\n",
       "             ('body', 140),\n",
       "             ('measure', 7),\n",
       "             ('etc', 51),\n",
       "             ('pp', 1),\n",
       "             ('superior', 60),\n",
       "             ('dead', 24),\n",
       "             ('chicken', 9),\n",
       "             ('grieving', 4),\n",
       "             ('get', 881),\n",
       "             ('giddy', 5),\n",
       "             ('elegant', 26),\n",
       "             ('perfectly', 21),\n",
       "             ('fitted', 1),\n",
       "             ('pencil', 4),\n",
       "             ('skirt', 5),\n",
       "             ('remember', 212),\n",
       "             ('acutely', 3),\n",
       "             ('distressed', 36),\n",
       "             ('day', 762),\n",
       "             ('seen', 43),\n",
       "             ('heard', 37),\n",
       "             ('read', 174),\n",
       "             ('past', 121),\n",
       "             ('couple', 64),\n",
       "             ('left', 240),\n",
       "             ('impressed', 67),\n",
       "             ('company', 39),\n",
       "             ('climbed', 6),\n",
       "             ('hill', 10),\n",
       "             ('frustrated', 97),\n",
       "             ('id', 142),\n",
       "             ('much', 549),\n",
       "             ('paced', 2),\n",
       "             ('entirely', 28),\n",
       "             ('course', 58),\n",
       "             ('factor', 7),\n",
       "             ('never', 295),\n",
       "             ('hampered', 1),\n",
       "             ('dent', 2),\n",
       "             ('imagine', 42),\n",
       "             ('real', 112),\n",
       "             ('scenario', 5),\n",
       "             ('would', 720),\n",
       "             ('emotionally', 35),\n",
       "             ('connected', 8),\n",
       "             ('enough', 267),\n",
       "             ('totally', 105),\n",
       "             ('accepted', 130),\n",
       "             ('safe', 95),\n",
       "             ('morally', 6),\n",
       "             ('acceptable', 54),\n",
       "             ('close', 78),\n",
       "             ('prolonged', 3),\n",
       "             ('physical', 28),\n",
       "             ('contact', 20),\n",
       "             ('sex', 31),\n",
       "             ('expected', 28),\n",
       "             ('subsequently', 2),\n",
       "             ('content', 80),\n",
       "             ('creative', 80),\n",
       "             ('however', 67),\n",
       "             ('want', 755),\n",
       "             ('causing', 11),\n",
       "             ('le', 278),\n",
       "             ('splendid', 13),\n",
       "             ('self', 132),\n",
       "             ('step', 44),\n",
       "             ('away', 252),\n",
       "             ('bit', 584),\n",
       "             ('rude', 68),\n",
       "             ('writing', 128),\n",
       "             ('elderly', 3),\n",
       "             ('gentleman', 1),\n",
       "             ('ask', 73),\n",
       "             ('gift', 44),\n",
       "             ('christmas', 53),\n",
       "             ('mild', 7),\n",
       "             ('greed', 4),\n",
       "             ('protected', 9),\n",
       "             ('small', 69),\n",
       "             ('season', 38),\n",
       "             ('word', 156),\n",
       "             ('plan', 65),\n",
       "             ('share', 103),\n",
       "             ('everyday', 35),\n",
       "             ('story', 115),\n",
       "             ('traveling', 8),\n",
       "             ('adventure', 17),\n",
       "             ('inspiration', 13),\n",
       "             ('handmade', 2),\n",
       "             ('creation', 7),\n",
       "             ('hope', 165),\n",
       "             ('inspired', 77),\n",
       "             ('tree', 34),\n",
       "             ('got', 309),\n",
       "             ('festive', 57),\n",
       "             ('spurring', 1),\n",
       "             ('book', 174),\n",
       "             ('worn', 10),\n",
       "             ('concealer', 1),\n",
       "             ('brave', 77),\n",
       "             ('pale', 5),\n",
       "             ('perfect', 101),\n",
       "             ('strongly', 39),\n",
       "             ('passionate', 129),\n",
       "             ('jerk', 4),\n",
       "             ('decides', 1),\n",
       "             ('poke', 4),\n",
       "             ('fun', 75),\n",
       "             ('u', 207),\n",
       "             ('discouraged', 68),\n",
       "             ('robbing', 1),\n",
       "             ('peter', 8),\n",
       "             ('pay', 34),\n",
       "             ('paul', 5),\n",
       "             ('cow', 5),\n",
       "             ('cant', 335),\n",
       "             ('afford', 5),\n",
       "             ('way', 595),\n",
       "             ('listless', 51),\n",
       "             ('new', 217),\n",
       "             ('different', 69),\n",
       "             ('lost', 143),\n",
       "             ('special', 94),\n",
       "             ('mind', 122),\n",
       "             ('worry', 38),\n",
       "             ('sane', 2),\n",
       "             ('wanted', 143),\n",
       "             ('felt', 301),\n",
       "             ('reading', 99),\n",
       "             ('many', 272),\n",
       "             ('said', 199),\n",
       "             ('sam', 8),\n",
       "             ('guarantee', 3),\n",
       "             ('used', 111),\n",
       "             ('paragraph', 2),\n",
       "             ('tell', 191),\n",
       "             ('sad', 144),\n",
       "             ('first', 204),\n",
       "             ('home', 251),\n",
       "             ('mine', 62),\n",
       "             ('boat', 9),\n",
       "             ('trip', 44),\n",
       "             ('denmark', 1),\n",
       "             ('stopped', 29),\n",
       "             ('cold', 122),\n",
       "             ('hot', 86),\n",
       "             ('dough', 1),\n",
       "             ('found', 113),\n",
       "             ('selfish', 74),\n",
       "             ('spoiled', 3),\n",
       "             ('stymied', 1),\n",
       "             ('wrote', 31),\n",
       "             ('unsure', 75),\n",
       "             ('might', 158),\n",
       "             ('somewhere', 28),\n",
       "             ('unintended', 1),\n",
       "             ('bag', 27),\n",
       "             ('qaf', 1),\n",
       "             ('look', 287),\n",
       "             ('cryin', 1),\n",
       "             ('jacynthe', 1),\n",
       "             ('lookin', 1),\n",
       "             ('good', 437),\n",
       "             ('feelin', 8),\n",
       "             ('gorgeous', 66),\n",
       "             ('rupaul', 1),\n",
       "             ('skin', 54),\n",
       "             ('scissor', 2),\n",
       "             ('sister', 39),\n",
       "             ('valentine', 3),\n",
       "             ('sun', 32),\n",
       "             ('fed', 6),\n",
       "             ('kayle', 1),\n",
       "             ('daddy', 6),\n",
       "             ('gerling', 1),\n",
       "             ('unkind', 11),\n",
       "             ('basically', 20),\n",
       "             ('fake', 57),\n",
       "             ('realm', 2),\n",
       "             ('science', 8),\n",
       "             ('fiction', 8),\n",
       "             ('hate', 161),\n",
       "             ('living', 84),\n",
       "             ('dad', 41),\n",
       "             ('roof', 5),\n",
       "             ('give', 188),\n",
       "             ('excuse', 13),\n",
       "             ('asshole', 3),\n",
       "             ('he', 68),\n",
       "             ('providing', 11),\n",
       "             ('live', 104),\n",
       "             ('unwelcome', 65),\n",
       "             ('ill', 170),\n",
       "             ('leave', 117),\n",
       "             ('keep', 202),\n",
       "             ('pleasantly', 10),\n",
       "             ('surprised', 73),\n",
       "             ('supportiveness', 1),\n",
       "             ('ease', 17),\n",
       "             ('situation', 100),\n",
       "             ('anymore', 84),\n",
       "             ('vigorous', 7),\n",
       "             ('sexual', 19),\n",
       "             ('activity', 21),\n",
       "             ('coming', 103),\n",
       "             ('yes', 43),\n",
       "             ('misspelt', 1),\n",
       "             ('cumming', 1),\n",
       "             ('part', 177),\n",
       "             ('begin', 50),\n",
       "             ('fall', 43),\n",
       "             ('mom', 81),\n",
       "             ('graceful', 16),\n",
       "             ('warm', 33),\n",
       "             ('loving', 104),\n",
       "             ('smile', 49),\n",
       "             ('rob', 1),\n",
       "             ('nurture', 2),\n",
       "             ('heal', 12),\n",
       "             ('talk', 144),\n",
       "             ('brother', 31),\n",
       "             ('law', 15),\n",
       "             ('extremely', 94),\n",
       "             ('popular', 75),\n",
       "             ('one', 734),\n",
       "             ('stiff', 4),\n",
       "             ('ate', 20),\n",
       "             ('could', 519),\n",
       "             ('gentle', 58),\n",
       "             ('tingle', 5),\n",
       "             ('throughout', 27),\n",
       "             ('almost', 135),\n",
       "             ('healing', 11),\n",
       "             ('place', 180),\n",
       "             ('cellular', 1),\n",
       "             ('level', 46),\n",
       "             ('pressured', 67),\n",
       "             ('young', 54),\n",
       "             ('beautiful', 65),\n",
       "             ('thin', 13),\n",
       "             ('depending', 8),\n",
       "             ('trend', 5),\n",
       "             ('girl', 168),\n",
       "             ('rejuvenated', 4),\n",
       "             ('butt', 10),\n",
       "             ('implant', 1),\n",
       "             ('several', 32),\n",
       "             ('week', 282),\n",
       "             ('tortured', 82),\n",
       "             ('hallucination', 1),\n",
       "             ('moving', 45),\n",
       "             ('figure', 33),\n",
       "             ('sound', 49),\n",
       "             ('vibration', 6),\n",
       "             ('nearly', 22),\n",
       "             ('finished', 37),\n",
       "             ('detox', 3),\n",
       "             ('amazing', 142),\n",
       "             ('back', 447),\n",
       "             ('former', 9),\n",
       "             ('asked', 69),\n",
       "             ('prayer', 16),\n",
       "             ('others', 177),\n",
       "             ('considered', 10),\n",
       "             ('may', 162),\n",
       "             ('deserve', 26),\n",
       "             ('answered', 7),\n",
       "             ('pain', 154),\n",
       "             ('parent', 79),\n",
       "             ('enraged', 12),\n",
       "             ('becomes', 20),\n",
       "             ('violent', 66),\n",
       "             ('roller', 3),\n",
       "             ('coaster', 3),\n",
       "             ('emotion', 72),\n",
       "             ('supposed', 53),\n",
       "             ('unpleasant', 37),\n",
       "             ('suppose', 44),\n",
       "             ('truth', 42),\n",
       "             ('shared', 18),\n",
       "             ('havent', 83),\n",
       "             ('faithful', 62),\n",
       "             ('dwelled', 1),\n",
       "             ('doubt', 32),\n",
       "             ('uncertainty', 7),\n",
       "             ('faith', 24),\n",
       "             ('bought', 23),\n",
       "             ('clearly', 15),\n",
       "             ('makeup', 13),\n",
       "             ('miserable', 88),\n",
       "             ('c', 16),\n",
       "             ('proudest', 1),\n",
       "             ('mum', 18),\n",
       "             ('earth', 24),\n",
       "             ('family', 213),\n",
       "             ('matter', 91),\n",
       "             ('else', 117),\n",
       "             ('michelle', 2),\n",
       "             ('ballistic', 2),\n",
       "             ('necessarily', 5),\n",
       "             ('f', 11),\n",
       "             ('bomb', 3),\n",
       "             ('necessary', 14),\n",
       "             ('see', 405),\n",
       "             ('print', 10),\n",
       "             ('ovary', 1),\n",
       "             ('aching', 68),\n",
       "             ('talking', 73),\n",
       "             ('chris', 7),\n",
       "             ('mostly', 33),\n",
       "             ('took', 66),\n",
       "             ('unimportant', 56),\n",
       "             ('stuff', 95),\n",
       "             ('tired', 122),\n",
       "             ('ready', 60),\n",
       "             ('finding', 30),\n",
       "             ('given', 53),\n",
       "             ('unsuitable', 1),\n",
       "             ('image', 31),\n",
       "             ('blamed', 24),\n",
       "             ('result', 49),\n",
       "             ('sit', 73),\n",
       "             ('successfully', 2),\n",
       "             ('manage', 17),\n",
       "             ('stretch', 7),\n",
       "             ('mxm', 1),\n",
       "             ('canvas', 9),\n",
       "             ('achievement', 6),\n",
       "             ('worthwhile', 54),\n",
       "             ('usage', 2),\n",
       "             ('money', 71),\n",
       "             ('use', 121),\n",
       "             ('future', 87),\n",
       "             ('brief', 4),\n",
       "             ('nay', 1),\n",
       "             ('important', 127),\n",
       "             ('honored', 65),\n",
       "             ('influence', 7),\n",
       "             ('talented', 80),\n",
       "             ('fully', 30),\n",
       "             ('alive', 20),\n",
       "             ('woman', 151),\n",
       "             ('angered', 15),\n",
       "             ('firey', 1),\n",
       "             ('piece', 58),\n",
       "             ('garbage', 5),\n",
       "             ('leanne', 1),\n",
       "             ('thought', 295),\n",
       "             ('miss', 79),\n",
       "             ('drove', 13),\n",
       "             ('dannika', 1),\n",
       "             ('school', 152),\n",
       "             ('rushed', 65),\n",
       "             ('greeted', 4),\n",
       "             ('hellip', 10),\n",
       "             ('furious', 19),\n",
       "             ('shooter', 1),\n",
       "             ('happy', 282),\n",
       "             ('excited', 140),\n",
       "             ('since', 168),\n",
       "             ('learned', 46),\n",
       "             ('show', 117),\n",
       "             ('horse', 13),\n",
       "             ('trusting', 53),\n",
       "             ('relaxed', 67),\n",
       "             ('quiet', 26),\n",
       "             ('handled', 7),\n",
       "             ('frequently', 7),\n",
       "             ('start', 189),\n",
       "             ('december', 5),\n",
       "             ('done', 140),\n",
       "             ('smug', 44),\n",
       "             ('realize', 60),\n",
       "             ('everything', 233),\n",
       "             ('ok', 107),\n",
       "             ('worthless', 61),\n",
       "             ('struggling', 26),\n",
       "             ('lay', 16),\n",
       "             ('bed', 90),\n",
       "             ('dark', 35),\n",
       "             ('terrified', 85),\n",
       "             ('least', 125),\n",
       "             ('meet', 45),\n",
       "             ('airport', 10),\n",
       "             ('supportive', 55),\n",
       "             ('arm', 57),\n",
       "             ('today', 377),\n",
       "             ('mood', 53),\n",
       "             ('strange', 154),\n",
       "             ('entire', 26),\n",
       "             ('guess', 142),\n",
       "             ('passed', 32),\n",
       "             ('involved', 24),\n",
       "             ('car', 52),\n",
       "             ('accident', 13),\n",
       "             ('bringing', 13),\n",
       "             ('present', 34),\n",
       "             ('exam', 27),\n",
       "             ('flying', 12),\n",
       "             ('colour', 12),\n",
       "             ('letting', 30),\n",
       "             ('animosity', 1),\n",
       "             ('towards', 111),\n",
       "             ('wronged', 57),\n",
       "             ('dog', 33),\n",
       "             ('cannot', 83),\n",
       "             ('understand', 125),\n",
       "             ('decided', 81),\n",
       "             ('throwing', 6),\n",
       "             ('shitty', 76),\n",
       "             ('shit', 42),\n",
       "             ('paper', 34),\n",
       "             ('starting', 109),\n",
       "             ('wryly', 1),\n",
       "             ('banal', 1),\n",
       "             ('comedy', 6),\n",
       "             ('error', 2),\n",
       "             ('turning', 24),\n",
       "             ('vital', 46),\n",
       "             ('hear', 87),\n",
       "             ('owner', 5),\n",
       "             ('victimized', 17),\n",
       "             ('association', 6),\n",
       "             ('attorney', 1),\n",
       "             ('manager', 7),\n",
       "             ('say', 407),\n",
       "             ('goodbye', 5),\n",
       "             ('fam', 1),\n",
       "             ('theyre', 35),\n",
       "             ('cry', 96),\n",
       "             ('heartless', 26),\n",
       "             ('bitch', 25),\n",
       "             ('hey', 16),\n",
       "             ('spend', 56),\n",
       "             ('another', 144),\n",
       "             ('country', 58),\n",
       "             ('wont', 86),\n",
       "             ('lily', 3),\n",
       "             ('going', 550),\n",
       "             ('opportunity', 50),\n",
       "             ('lasted', 3),\n",
       "             ('short', 41),\n",
       "             ('month', 140),\n",
       "             ('alba', 1),\n",
       "             ('fitting', 7),\n",
       "             ('ton', 13),\n",
       "             ('catching', 9),\n",
       "             ('hard', 142),\n",
       "             ('obtain', 4),\n",
       "             ('high', 58),\n",
       "             ('technical', 1),\n",
       "             ('skill', 25),\n",
       "             ('wushu', 2),\n",
       "             ('ashamed', 86),\n",
       "             ('somehow', 73),\n",
       "             ('motivated', 15),\n",
       "             ('saw', 47),\n",
       "             ('kid', 128),\n",
       "             ('performance', 17),\n",
       "             ('whole', 145),\n",
       "             ('heartedly', 3),\n",
       "             ('despite', 40),\n",
       "             ('tiredness', 6),\n",
       "             ('getting', 230),\n",
       "             ('overwhelming', 14),\n",
       "             ('spritz', 2),\n",
       "             ('toner', 1),\n",
       "             ('calm', 74),\n",
       "             ('soothe', 3),\n",
       "             ('effort', 49),\n",
       "             ('required', 3),\n",
       "             ('better', 239),\n",
       "             ('whether', 70),\n",
       "             ('member', 31),\n",
       "             ('college', 34),\n",
       "             ('friend', 375),\n",
       "             ('neighbor', 6),\n",
       "             ('street', 27),\n",
       "             ('even', 645),\n",
       "             ('complete', 31),\n",
       "             ('stranger', 18),\n",
       "             ('soon', 70),\n",
       "             ('ons', 2),\n",
       "             ('coronation', 1),\n",
       "             ('seriously', 40),\n",
       "             ('alright', 8),\n",
       "             ('class', 119),\n",
       "             ('combination', 11),\n",
       "             ('unsuccessful', 13),\n",
       "             ('stress', 36),\n",
       "             ('late', 39),\n",
       "             ('horrible', 87),\n",
       "             ('resulted', 3),\n",
       "             ('grappling', 2),\n",
       "             ('rarely', 14),\n",
       "             ('advance', 9),\n",
       "             ('cause', 77),\n",
       "             ('stick', 18),\n",
       "             ('rule', 15),\n",
       "             ('posting', 32),\n",
       "             ('online', 21),\n",
       "             ('wouldnt', 46),\n",
       "             ('prepared', 11),\n",
       "             ('somebody', 17),\n",
       "             ('face', 127),\n",
       "             ('useful', 68),\n",
       "             ('becoming', 22),\n",
       "             ('group', 53),\n",
       "             ('idea', 100),\n",
       "             ('ugly', 67),\n",
       "             ('inclined', 4),\n",
       "             ('wear', 69),\n",
       "             ('ratty', 2),\n",
       "             ('jean', 5),\n",
       "             ('sweatshirt', 3),\n",
       "             ('dress', 30),\n",
       "             ('pair', 19),\n",
       "             ('heel', 8),\n",
       "             ('house', 103),\n",
       "             ('boost', 8),\n",
       "             ('esteem', 5),\n",
       "             ('slightly', 104),\n",
       "             ('definitely', 58),\n",
       "             ('bother', 16),\n",
       "             ('buy', 55),\n",
       "             ('homesick', 70),\n",
       "             ('yet', 163),\n",
       "             ('dance', 26),\n",
       "             ('workout', 24),\n",
       "             ('fabulous', 49),\n",
       "             ('eye', 108),\n",
       "             ('touch', 49),\n",
       "             ('assuredly', 2),\n",
       "             ('return', 30),\n",
       "             ('shall', 17),\n",
       "             ('vain', 64),\n",
       "             ('friday', 25),\n",
       "             ('awful', 75),\n",
       "             ('cramp', 8),\n",
       "             ('honoured', 53),\n",
       "             ('call', 104),\n",
       "             ('brotherhood', 2),\n",
       "             ('begun', 12),\n",
       "             ('apprehensive', 63),\n",
       "             ('thick', 7),\n",
       "             ('black', 32),\n",
       "             ('rain', 20),\n",
       "             ('cloud', 10),\n",
       "             ('stormed', 2),\n",
       "             ('sky', 21),\n",
       "             ('town', 20),\n",
       "             ('stated', 4),\n",
       "             ('reason', 143),\n",
       "             ('fearful', 55),\n",
       "             ('unsafe', 4),\n",
       "             ('shaken', 67),\n",
       "             ('tsa', 2),\n",
       "             ('quite', 266),\n",
       "             ('pulled', 16),\n",
       "             ('croissant', 2),\n",
       "             ('lunch', 13),\n",
       "             ('awkward', 83),\n",
       "             ('overcompensate', 1),\n",
       "             ('talkative', 2),\n",
       "             ('finally', 90),\n",
       "             ('companion', 8),\n",
       "             ('especially', 127),\n",
       "             ('lonely', 98),\n",
       "             ('disappoint', 4),\n",
       "             ('loved', 139),\n",
       "             ('blog', 173),\n",
       "             ('img', 33),\n",
       "             ('src', 40),\n",
       "             ('http', 223),\n",
       "             ('eager', 55),\n",
       "             ('quilting', 6),\n",
       "             ('horny', 52),\n",
       "             ('poem', 9),\n",
       "             ('pressure', 41),\n",
       "             ('uncomfortable', 78),\n",
       "             ('sense', 113),\n",
       "             ('understanding', 26),\n",
       "             ('land', 9),\n",
       "             ('raising', 9),\n",
       "             ('son', 43),\n",
       "             ('father', 43),\n",
       "             ('ancestral', 2),\n",
       "             ('shower', 16),\n",
       "             ('questioning', 10),\n",
       "             ('fantastic', 52),\n",
       "             ('confident', 92),\n",
       "             ('movement', 15),\n",
       "             ('effortlessly', 1),\n",
       "             ('energetic', 59),\n",
       "             ('bouncy', 23),\n",
       "             ('gym', 17),\n",
       "             ('run', 100),\n",
       "             ('outside', 57),\n",
       "             ('take', 252),\n",
       "             ('pram', 1),\n",
       "             ('long', 186),\n",
       "             ('walk', 89),\n",
       "             ('often', 158),\n",
       "             ('three', 58),\n",
       "             ('strong', 103),\n",
       "             ('burst', 9),\n",
       "             ('tear', 45),\n",
       "             ('devastating', 4),\n",
       "             ('release', 16),\n",
       "             ('seemed', 24),\n",
       "             ('rich', 73),\n",
       "             ('space', 46),\n",
       "             ('dumping', 2),\n",
       "             ('pumpkin', 2),\n",
       "             ('spice', 5),\n",
       "             ('latte', 1),\n",
       "             ('last', 240),\n",
       "             ('coffee', 20),\n",
       "             ('maybe', 133),\n",
       "             ('badly', 24),\n",
       "             ('shes', 62),\n",
       "             ('hyperchondria', 1),\n",
       "             ('exaggeration', 1),\n",
       "             ('habit', 15),\n",
       "             ('openly', 4),\n",
       "             ('questioned', 4),\n",
       "             ('clench', 3),\n",
       "             ('assured', 63),\n",
       "             ('called', 56),\n",
       "             ('figured', 10),\n",
       "             ('right', 405),\n",
       "             ('name', 54),\n",
       "             ('utterly', 37),\n",
       "             ('affirmed', 2),\n",
       "             ('question', 68),\n",
       "             ('perhaps', 40),\n",
       "             ('office', 26),\n",
       "             ('nice', 69),\n",
       "             ('hair', 69),\n",
       "             ('rebellious', 51),\n",
       "             ('celebrates', 1),\n",
       "             ('eid', 2),\n",
       "             ('wash', 7),\n",
       "             ('generous', 103),\n",
       "             ('sleep', 117),\n",
       "             ('deprived', 49),\n",
       "             ('sleeping', 34),\n",
       "             ('night', 169),\n",
       "             ('giving', 72),\n",
       "             ('bloging', 1),\n",
       "             ('sitting', 69),\n",
       "             ('amp', 95),\n",
       "             ('cat', 22),\n",
       "             ('lucky', 79),\n",
       "             ('woke', 85),\n",
       "             ('sick', 66),\n",
       "             ('protect', 13),\n",
       "             ('witch', 2),\n",
       "             ('hunt', 4),\n",
       "             ('repressed', 22),\n",
       "             ('memory', 45),\n",
       "             ('therapy', 11),\n",
       "             ('disgusted', 59),\n",
       "             ('associated', 2),\n",
       "             ('race', 48),\n",
       "             ('nationality', 2),\n",
       "             ('laughed', 7),\n",
       "             ('bitterly', 2),\n",
       "             ('wished', 7),\n",
       "             ('knew', 76),\n",
       "             ('hated', 122),\n",
       "             ('forever', 23),\n",
       "             ('mellow', 58),\n",
       "             ('soft', 19),\n",
       "             ('easy', 43),\n",
       "             ('beginning', 46),\n",
       "             ('told', 105),\n",
       "             ('indecisive', 32),\n",
       "             ('genre', 9),\n",
       "             ('disservice', 3),\n",
       "             ('resolved', 56),\n",
       "             ('artifically', 1),\n",
       "             ('artistic', 46),\n",
       "             ('manitz', 1),\n",
       "             ('draw', 17),\n",
       "             ('circle', 16),\n",
       "             ('dot', 3),\n",
       "             ('bigger', 13),\n",
       "             ('line', 46),\n",
       "             ('accent', 3),\n",
       "             ('mark', 27),\n",
       "             ('spanish', 4),\n",
       "             ('pissed', 64),\n",
       "             ('brazil', 2),\n",
       "             ('bus', 18),\n",
       "             ('steep', 3),\n",
       "             ('mountain', 12),\n",
       "             ('middle', 27),\n",
       "             ('big', 87),\n",
       "             ('storm', 10),\n",
       "             ('wondering', 34),\n",
       "             ('whimper', 1),\n",
       "             ('unloved', 46),\n",
       "             ('uncared', 1),\n",
       "             ('certainly', 34),\n",
       "             ('whats', 29),\n",
       "             ('personal', 40),\n",
       "             ('curious', 68),\n",
       "             ('youd', 10),\n",
       "             ('watch', 68),\n",
       "             ('sorry', 100),\n",
       "             ('humor', 6),\n",
       "             ('foot', 46),\n",
       "             ('door', 38),\n",
       "             ('world', 227),\n",
       "             ('walking', 40),\n",
       "             ('trail', 11),\n",
       "             ('fell', 11),\n",
       "             ('whatever', 60),\n",
       "             ('come', 305),\n",
       "             ('directly', 6),\n",
       "             ('jealous', 70),\n",
       "             ('insecure', 68),\n",
       "             ('trust', 60),\n",
       "             ('worthy', 12),\n",
       "             ('sweet', 151),\n",
       "             ('holiday', 45),\n",
       "             ('influenced', 3),\n",
       "             ('dash', 3),\n",
       "             ('happiness', 31),\n",
       "             ('emily', 4),\n",
       "             ('dickinson', 1),\n",
       "             ('example', 17),\n",
       "             ('instead', 74),\n",
       "             ('colon', 2),\n",
       "             ('semi', 4),\n",
       "             ('enhance', 2),\n",
       "             ('enjambment', 1),\n",
       "             ('sonnet', 1),\n",
       "             ('fatter', 1),\n",
       "             ('remain', 17),\n",
       "             ('control', 78),\n",
       "             ('peanut', 2),\n",
       "             ('butter', 5),\n",
       "             ('bread', 9),\n",
       "             ('impossible', 11),\n",
       "             ('looking', 148),\n",
       "             ('third', 13),\n",
       "             ('hell', 38),\n",
       "             ('needy', 54),\n",
       "             ('neglected', 5),\n",
       "             ('claim', 6),\n",
       "             ('redeem', 2),\n",
       "             ('beating', 12),\n",
       "             ('head', 99),\n",
       "             ('wall', 36),\n",
       "             ('either', 63),\n",
       "             ('intimidated', 61),\n",
       "             ('concept', 7),\n",
       "             ('lit', 7),\n",
       "             ('groggy', 65),\n",
       "             ('routine', 17),\n",
       "             ('view', 38),\n",
       "             ('isnt', 49),\n",
       "             ('thats', 109),\n",
       "             ('fine', 92),\n",
       "             ('hold', 56),\n",
       "             ('shocked', 55),\n",
       "             ('awe', 4),\n",
       "             ('wonder', 75),\n",
       "             ('rumour', 1),\n",
       "             ('st', 9),\n",
       "             ('fear', 64),\n",
       "             ('failure', 18),\n",
       "             ('valued', 67),\n",
       "             ('appreciated', 20),\n",
       "             ('arent', 24),\n",
       "             ('anywhere', 18),\n",
       "             ('nature', 24),\n",
       "             ('relationship', 87),\n",
       "             ('change', 110),\n",
       "             ('distracted', 61),\n",
       "             ('regularly', 8),\n",
       "             ('relaxing', 5),\n",
       "             ('music', 66),\n",
       "             ('invigorated', 47),\n",
       "             ('afterward', 7),\n",
       "             ('tend', 31),\n",
       "             ('practice', 25),\n",
       "             ('shut', 19),\n",
       "             ('w', 14),\n",
       "             ('youtube', 5),\n",
       "             ('specifically', 8),\n",
       "             ('tango', 3),\n",
       "             ('shy', 69),\n",
       "             ('mak', 1),\n",
       "             ('opposite', 10),\n",
       "             ('far', 102),\n",
       "             ('pic', 14),\n",
       "             ('lol', 26),\n",
       "             ('weird', 152),\n",
       "             ('slept', 9),\n",
       "             ('okay', 26),\n",
       "             ('thinking', 142),\n",
       "             ('earlier', 25),\n",
       "             ('here', 6),\n",
       "             ('cooped', 5),\n",
       "             ('restless', 54),\n",
       "             ('weight', 57),\n",
       "             ('fit', 39),\n",
       "             ('tiny', 16),\n",
       "             ('unable', 21),\n",
       "             ('presence', 36),\n",
       "             ('fan', 43),\n",
       "             ...])"
      ]
     },
     "execution_count": 58,
     "metadata": {},
     "output_type": "execute_result"
    }
   ],
   "source": [
    "tokenizer.word_counts"
   ]
  },
  {
   "cell_type": "code",
   "execution_count": 59,
   "metadata": {
    "execution": {
     "iopub.execute_input": "2024-10-29T05:24:48.017024Z",
     "iopub.status.busy": "2024-10-29T05:24:48.016519Z",
     "iopub.status.idle": "2024-10-29T05:24:48.025850Z",
     "shell.execute_reply": "2024-10-29T05:24:48.024410Z",
     "shell.execute_reply.started": "2024-10-29T05:24:48.016958Z"
    },
    "trusted": true
   },
   "outputs": [
    {
     "data": {
      "text/plain": [
       "17969"
      ]
     },
     "execution_count": 59,
     "metadata": {},
     "output_type": "execute_result"
    }
   ],
   "source": [
    "tokenizer.document_count"
   ]
  },
  {
   "cell_type": "code",
   "execution_count": 60,
   "metadata": {
    "execution": {
     "iopub.execute_input": "2024-10-29T05:24:48.028155Z",
     "iopub.status.busy": "2024-10-29T05:24:48.027608Z",
     "iopub.status.idle": "2024-10-29T05:24:48.039858Z",
     "shell.execute_reply": "2024-10-29T05:24:48.038579Z",
     "shell.execute_reply.started": "2024-10-29T05:24:48.028098Z"
    },
    "trusted": true
   },
   "outputs": [
    {
     "data": {
      "text/plain": [
       "31"
      ]
     },
     "execution_count": 60,
     "metadata": {},
     "output_type": "execute_result"
    }
   ],
   "source": [
    "tokenizer.word_index['go']"
   ]
  },
  {
   "cell_type": "code",
   "execution_count": 61,
   "metadata": {
    "execution": {
     "iopub.execute_input": "2024-10-29T10:14:07.982072Z",
     "iopub.status.busy": "2024-10-29T10:14:07.981646Z",
     "iopub.status.idle": "2024-10-29T10:14:08.032751Z",
     "shell.execute_reply": "2024-10-29T10:14:08.030916Z",
     "shell.execute_reply.started": "2024-10-29T10:14:07.982033Z"
    },
    "trusted": true
   },
   "outputs": [
    {
     "data": {
      "text/plain": [
       "[[53], [2], [531]]"
      ]
     },
     "execution_count": 61,
     "metadata": {},
     "output_type": "execute_result"
    }
   ],
   "source": [
    "tokenizer.texts_to_sequences(X_train[0].split())"
   ]
  },
  {
   "cell_type": "code",
   "execution_count": 62,
   "metadata": {
    "execution": {
     "iopub.execute_input": "2024-10-29T05:24:48.055784Z",
     "iopub.status.busy": "2024-10-29T05:24:48.055360Z",
     "iopub.status.idle": "2024-10-29T05:24:48.067604Z",
     "shell.execute_reply": "2024-10-29T05:24:48.066282Z",
     "shell.execute_reply.started": "2024-10-29T05:24:48.055742Z"
    },
    "trusted": true
   },
   "outputs": [
    {
     "data": {
      "text/plain": [
       "(3, 14325)"
      ]
     },
     "execution_count": 62,
     "metadata": {},
     "output_type": "execute_result"
    }
   ],
   "source": [
    "tokenizer.texts_to_matrix(X_train[0].split()).shape"
   ]
  },
  {
   "cell_type": "code",
   "execution_count": 63,
   "metadata": {
    "execution": {
     "iopub.execute_input": "2024-10-29T05:24:48.069693Z",
     "iopub.status.busy": "2024-10-29T05:24:48.069263Z",
     "iopub.status.idle": "2024-10-29T05:24:48.409228Z",
     "shell.execute_reply": "2024-10-29T05:24:48.408044Z",
     "shell.execute_reply.started": "2024-10-29T05:24:48.069636Z"
    },
    "trusted": true
   },
   "outputs": [],
   "source": [
    "sequences_train = tokenizer.texts_to_sequences(X_train)\n",
    "sequences_test = tokenizer.texts_to_sequences(X_test)\n",
    "sequences_val = tokenizer.texts_to_sequences(X_val)"
   ]
  },
  {
   "cell_type": "code",
   "execution_count": 64,
   "metadata": {
    "execution": {
     "iopub.execute_input": "2024-10-29T05:24:48.410973Z",
     "iopub.status.busy": "2024-10-29T05:24:48.410591Z",
     "iopub.status.idle": "2024-10-29T05:24:48.418905Z",
     "shell.execute_reply": "2024-10-29T05:24:48.417528Z",
     "shell.execute_reply.started": "2024-10-29T05:24:48.410934Z"
    },
    "trusted": true
   },
   "outputs": [
    {
     "data": {
      "text/plain": [
       "15969"
      ]
     },
     "execution_count": 64,
     "metadata": {},
     "output_type": "execute_result"
    }
   ],
   "source": [
    "len(sequences_train)"
   ]
  },
  {
   "cell_type": "code",
   "execution_count": 65,
   "metadata": {
    "execution": {
     "iopub.execute_input": "2024-10-29T05:24:48.420880Z",
     "iopub.status.busy": "2024-10-29T05:24:48.420475Z",
     "iopub.status.idle": "2024-10-29T05:24:48.440441Z",
     "shell.execute_reply": "2024-10-29T05:24:48.439228Z",
     "shell.execute_reply.started": "2024-10-29T05:24:48.420841Z"
    },
    "trusted": true
   },
   "outputs": [
    {
     "data": {
      "text/plain": [
       "229"
      ]
     },
     "execution_count": 65,
     "metadata": {},
     "output_type": "execute_result"
    }
   ],
   "source": [
    "max_len = max([len(text) for text in df_train['Text']])\n",
    "max_len"
   ]
  },
  {
   "cell_type": "code",
   "execution_count": 66,
   "metadata": {
    "execution": {
     "iopub.execute_input": "2024-10-29T05:24:48.442395Z",
     "iopub.status.busy": "2024-10-29T05:24:48.441977Z",
     "iopub.status.idle": "2024-10-29T05:24:48.555222Z",
     "shell.execute_reply": "2024-10-29T05:24:48.554083Z",
     "shell.execute_reply.started": "2024-10-29T05:24:48.442337Z"
    },
    "trusted": true
   },
   "outputs": [],
   "source": [
    "X_train = pad_sequences(sequences_train, maxlen=max_len, truncating='pre')\n",
    "X_test = pad_sequences(sequences_test, maxlen=max_len, truncating='pre')\n",
    "X_val = pad_sequences(sequences_val, maxlen=max_len, truncating='pre')"
   ]
  },
  {
   "cell_type": "code",
   "execution_count": 67,
   "metadata": {
    "execution": {
     "iopub.execute_input": "2024-10-29T05:24:48.558831Z",
     "iopub.status.busy": "2024-10-29T05:24:48.558340Z",
     "iopub.status.idle": "2024-10-29T05:24:48.564394Z",
     "shell.execute_reply": "2024-10-29T05:24:48.563304Z",
     "shell.execute_reply.started": "2024-10-29T05:24:48.558788Z"
    },
    "trusted": true
   },
   "outputs": [
    {
     "name": "stdout",
     "output_type": "stream",
     "text": [
      "The vocab size is 14325\n"
     ]
    }
   ],
   "source": [
    "vocabSize = len(tokenizer.index_word) + 1\n",
    "print(f\"The vocab size is {vocabSize}\")"
   ]
  },
  {
   "cell_type": "code",
   "execution_count": 68,
   "metadata": {
    "execution": {
     "iopub.execute_input": "2024-10-29T06:01:58.382178Z",
     "iopub.status.busy": "2024-10-29T06:01:58.381667Z",
     "iopub.status.idle": "2024-10-29T06:01:58.388731Z",
     "shell.execute_reply": "2024-10-29T06:01:58.387336Z",
     "shell.execute_reply.started": "2024-10-29T06:01:58.382133Z"
    },
    "trusted": true
   },
   "outputs": [],
   "source": [
    "path_to_glove_file = 'D:/CVR_MINI_PROG/text_data/golve/glove.6B.200d.txt'\n",
    "num_tokens = vocabSize\n",
    "embedding_dim = 200\n",
    "hits = 0\n",
    "misses = 0\n",
    "embedding_index = {}"
   ]
  },
  {
   "cell_type": "code",
   "execution_count": 69,
   "metadata": {
    "execution": {
     "iopub.execute_input": "2024-10-29T06:03:57.824241Z",
     "iopub.status.busy": "2024-10-29T06:03:57.823782Z",
     "iopub.status.idle": "2024-10-29T06:04:25.711483Z",
     "shell.execute_reply": "2024-10-29T06:04:25.710380Z",
     "shell.execute_reply.started": "2024-10-29T06:03:57.824200Z"
    },
    "trusted": true
   },
   "outputs": [
    {
     "name": "stdout",
     "output_type": "stream",
     "text": [
      "Found 400000 word vectors\n",
      "Converted 13243 word, missed 1081 words\n"
     ]
    }
   ],
   "source": [
    "with open(path_to_glove_file, 'r', encoding='utf-8') as f:\n",
    "    for line in f:\n",
    "        word, coefs = line.split(maxsplit=1)\n",
    "        coefs = np.fromstring(coefs, 'f', sep=' ')\n",
    "        embedding_index[word] = coefs\n",
    "\n",
    "print(f\"Found {len(embedding_index)} word vectors\")\n",
    "\n",
    "embedding_matrix = np.zeros((num_tokens, embedding_dim ))\n",
    "\n",
    "for word, i in tokenizer.word_index.items():\n",
    "    embedding_vector = embedding_index.get(word)\n",
    "    \n",
    "    if embedding_vector is not None:\n",
    "        embedding_matrix[i] = embedding_vector\n",
    "        hits += 1\n",
    "    else:\n",
    "        misses += 1\n",
    "\n",
    "print(f\"Converted {hits} word, missed {misses} words\")"
   ]
  },
  {
   "cell_type": "code",
   "execution_count": 70,
   "metadata": {
    "execution": {
     "iopub.execute_input": "2024-10-29T06:33:09.551471Z",
     "iopub.status.busy": "2024-10-29T06:33:09.550977Z",
     "iopub.status.idle": "2024-10-29T06:33:09.881426Z",
     "shell.execute_reply": "2024-10-29T06:33:09.880332Z",
     "shell.execute_reply.started": "2024-10-29T06:33:09.551405Z"
    },
    "trusted": true
   },
   "outputs": [
    {
     "name": "stderr",
     "output_type": "stream",
     "text": [
      "c:\\Users\\anshs\\AppData\\Local\\Programs\\Python\\Python312\\Lib\\site-packages\\keras\\src\\layers\\core\\embedding.py:90: UserWarning: Argument `input_length` is deprecated. Just remove it.\n",
      "  warnings.warn(\n"
     ]
    },
    {
     "data": {
      "text/html": [
       "<pre style=\"white-space:pre;overflow-x:auto;line-height:normal;font-family:Menlo,'DejaVu Sans Mono',consolas,'Courier New',monospace\"><span style=\"font-weight: bold\">Model: \"sequential\"</span>\n",
       "</pre>\n"
      ],
      "text/plain": [
       "\u001b[1mModel: \"sequential\"\u001b[0m\n"
      ]
     },
     "metadata": {},
     "output_type": "display_data"
    },
    {
     "data": {
      "text/html": [
       "<pre style=\"white-space:pre;overflow-x:auto;line-height:normal;font-family:Menlo,'DejaVu Sans Mono',consolas,'Courier New',monospace\">┏━━━━━━━━━━━━━━━━━━━━━━━━━━━━━━━━━┳━━━━━━━━━━━━━━━━━━━━━━━━┳━━━━━━━━━━━━━━━┓\n",
       "┃<span style=\"font-weight: bold\"> Layer (type)                    </span>┃<span style=\"font-weight: bold\"> Output Shape           </span>┃<span style=\"font-weight: bold\">       Param # </span>┃\n",
       "┡━━━━━━━━━━━━━━━━━━━━━━━━━━━━━━━━━╇━━━━━━━━━━━━━━━━━━━━━━━━╇━━━━━━━━━━━━━━━┩\n",
       "│ embedding (<span style=\"color: #0087ff; text-decoration-color: #0087ff\">Embedding</span>)           │ (<span style=\"color: #00d7ff; text-decoration-color: #00d7ff\">None</span>, <span style=\"color: #00af00; text-decoration-color: #00af00\">229</span>, <span style=\"color: #00af00; text-decoration-color: #00af00\">200</span>)       │     <span style=\"color: #00af00; text-decoration-color: #00af00\">2,865,000</span> │\n",
       "├─────────────────────────────────┼────────────────────────┼───────────────┤\n",
       "│ bidirectional (<span style=\"color: #0087ff; text-decoration-color: #0087ff\">Bidirectional</span>)   │ (<span style=\"color: #00d7ff; text-decoration-color: #00d7ff\">None</span>, <span style=\"color: #00af00; text-decoration-color: #00af00\">229</span>, <span style=\"color: #00af00; text-decoration-color: #00af00\">512</span>)       │       <span style=\"color: #00af00; text-decoration-color: #00af00\">935,936</span> │\n",
       "├─────────────────────────────────┼────────────────────────┼───────────────┤\n",
       "│ bidirectional_1 (<span style=\"color: #0087ff; text-decoration-color: #0087ff\">Bidirectional</span>) │ (<span style=\"color: #00d7ff; text-decoration-color: #00d7ff\">None</span>, <span style=\"color: #00af00; text-decoration-color: #00af00\">229</span>, <span style=\"color: #00af00; text-decoration-color: #00af00\">256</span>)       │       <span style=\"color: #00af00; text-decoration-color: #00af00\">656,384</span> │\n",
       "├─────────────────────────────────┼────────────────────────┼───────────────┤\n",
       "│ bidirectional_2 (<span style=\"color: #0087ff; text-decoration-color: #0087ff\">Bidirectional</span>) │ (<span style=\"color: #00d7ff; text-decoration-color: #00d7ff\">None</span>, <span style=\"color: #00af00; text-decoration-color: #00af00\">256</span>)            │       <span style=\"color: #00af00; text-decoration-color: #00af00\">394,240</span> │\n",
       "├─────────────────────────────────┼────────────────────────┼───────────────┤\n",
       "│ dense (<span style=\"color: #0087ff; text-decoration-color: #0087ff\">Dense</span>)                   │ (<span style=\"color: #00d7ff; text-decoration-color: #00d7ff\">None</span>, <span style=\"color: #00af00; text-decoration-color: #00af00\">6</span>)              │         <span style=\"color: #00af00; text-decoration-color: #00af00\">1,542</span> │\n",
       "└─────────────────────────────────┴────────────────────────┴───────────────┘\n",
       "</pre>\n"
      ],
      "text/plain": [
       "┏━━━━━━━━━━━━━━━━━━━━━━━━━━━━━━━━━┳━━━━━━━━━━━━━━━━━━━━━━━━┳━━━━━━━━━━━━━━━┓\n",
       "┃\u001b[1m \u001b[0m\u001b[1mLayer (type)                   \u001b[0m\u001b[1m \u001b[0m┃\u001b[1m \u001b[0m\u001b[1mOutput Shape          \u001b[0m\u001b[1m \u001b[0m┃\u001b[1m \u001b[0m\u001b[1m      Param #\u001b[0m\u001b[1m \u001b[0m┃\n",
       "┡━━━━━━━━━━━━━━━━━━━━━━━━━━━━━━━━━╇━━━━━━━━━━━━━━━━━━━━━━━━╇━━━━━━━━━━━━━━━┩\n",
       "│ embedding (\u001b[38;5;33mEmbedding\u001b[0m)           │ (\u001b[38;5;45mNone\u001b[0m, \u001b[38;5;34m229\u001b[0m, \u001b[38;5;34m200\u001b[0m)       │     \u001b[38;5;34m2,865,000\u001b[0m │\n",
       "├─────────────────────────────────┼────────────────────────┼───────────────┤\n",
       "│ bidirectional (\u001b[38;5;33mBidirectional\u001b[0m)   │ (\u001b[38;5;45mNone\u001b[0m, \u001b[38;5;34m229\u001b[0m, \u001b[38;5;34m512\u001b[0m)       │       \u001b[38;5;34m935,936\u001b[0m │\n",
       "├─────────────────────────────────┼────────────────────────┼───────────────┤\n",
       "│ bidirectional_1 (\u001b[38;5;33mBidirectional\u001b[0m) │ (\u001b[38;5;45mNone\u001b[0m, \u001b[38;5;34m229\u001b[0m, \u001b[38;5;34m256\u001b[0m)       │       \u001b[38;5;34m656,384\u001b[0m │\n",
       "├─────────────────────────────────┼────────────────────────┼───────────────┤\n",
       "│ bidirectional_2 (\u001b[38;5;33mBidirectional\u001b[0m) │ (\u001b[38;5;45mNone\u001b[0m, \u001b[38;5;34m256\u001b[0m)            │       \u001b[38;5;34m394,240\u001b[0m │\n",
       "├─────────────────────────────────┼────────────────────────┼───────────────┤\n",
       "│ dense (\u001b[38;5;33mDense\u001b[0m)                   │ (\u001b[38;5;45mNone\u001b[0m, \u001b[38;5;34m6\u001b[0m)              │         \u001b[38;5;34m1,542\u001b[0m │\n",
       "└─────────────────────────────────┴────────────────────────┴───────────────┘\n"
      ]
     },
     "metadata": {},
     "output_type": "display_data"
    },
    {
     "data": {
      "text/html": [
       "<pre style=\"white-space:pre;overflow-x:auto;line-height:normal;font-family:Menlo,'DejaVu Sans Mono',consolas,'Courier New',monospace\"><span style=\"font-weight: bold\"> Total params: </span><span style=\"color: #00af00; text-decoration-color: #00af00\">4,853,102</span> (18.51 MB)\n",
       "</pre>\n"
      ],
      "text/plain": [
       "\u001b[1m Total params: \u001b[0m\u001b[38;5;34m4,853,102\u001b[0m (18.51 MB)\n"
      ]
     },
     "metadata": {},
     "output_type": "display_data"
    },
    {
     "data": {
      "text/html": [
       "<pre style=\"white-space:pre;overflow-x:auto;line-height:normal;font-family:Menlo,'DejaVu Sans Mono',consolas,'Courier New',monospace\"><span style=\"font-weight: bold\"> Trainable params: </span><span style=\"color: #00af00; text-decoration-color: #00af00\">1,988,102</span> (7.58 MB)\n",
       "</pre>\n"
      ],
      "text/plain": [
       "\u001b[1m Trainable params: \u001b[0m\u001b[38;5;34m1,988,102\u001b[0m (7.58 MB)\n"
      ]
     },
     "metadata": {},
     "output_type": "display_data"
    },
    {
     "data": {
      "text/html": [
       "<pre style=\"white-space:pre;overflow-x:auto;line-height:normal;font-family:Menlo,'DejaVu Sans Mono',consolas,'Courier New',monospace\"><span style=\"font-weight: bold\"> Non-trainable params: </span><span style=\"color: #00af00; text-decoration-color: #00af00\">2,865,000</span> (10.93 MB)\n",
       "</pre>\n"
      ],
      "text/plain": [
       "\u001b[1m Non-trainable params: \u001b[0m\u001b[38;5;34m2,865,000\u001b[0m (10.93 MB)\n"
      ]
     },
     "metadata": {},
     "output_type": "display_data"
    }
   ],
   "source": [
    "adam = Adam(learning_rate=0.005)\n",
    "\n",
    "model = Sequential()\n",
    "model.add(Embedding(vocabSize, 200, input_length=X_train.shape[1], weights=[embedding_matrix], trainable=False))\n",
    "model.add(Bidirectional(LSTM(256, dropout=0.2,recurrent_dropout=0.2, return_sequences=True)))\n",
    "model.add(Bidirectional(LSTM(128, dropout=0.2,recurrent_dropout=0.2, return_sequences=True)))\n",
    "model.add(Bidirectional(LSTM(128, dropout=0.2,recurrent_dropout=0.2)))\n",
    "model.add(Dense(6, activation='softmax'))\n",
    "\n",
    "model.build(\n",
    "    input_shape=(None, X_train.shape[1])\n",
    ")\n",
    "model.compile(loss='categorical_crossentropy', optimizer=adam, metrics=['accuracy'])\n",
    "model.summary()"
   ]
  },
  {
   "cell_type": "code",
   "execution_count": 71,
   "metadata": {
    "execution": {
     "iopub.execute_input": "2024-10-29T06:56:17.885620Z",
     "iopub.status.busy": "2024-10-29T06:56:17.885135Z",
     "iopub.status.idle": "2024-10-29T06:56:17.892730Z",
     "shell.execute_reply": "2024-10-29T06:56:17.891128Z",
     "shell.execute_reply.started": "2024-10-29T06:56:17.885574Z"
    },
    "trusted": true
   },
   "outputs": [],
   "source": [
    "callback = EarlyStopping(\n",
    "    monitor='val_loss',\n",
    "    patience=4,\n",
    "    restore_best_weights=True\n",
    ")"
   ]
  },
  {
   "cell_type": "code",
   "execution_count": 72,
   "metadata": {},
   "outputs": [
    {
     "name": "stdout",
     "output_type": "stream",
     "text": [
      "Epoch 1/30\n",
      "\u001b[1m63/63\u001b[0m \u001b[32m━━━━━━━━━━━━━━━━━━━━\u001b[0m\u001b[37m\u001b[0m \u001b[1m275s\u001b[0m 4s/step - accuracy: 0.4235 - loss: 1.5004 - val_accuracy: 0.7012 - val_loss: 0.8219\n",
      "Epoch 2/30\n",
      "\u001b[1m63/63\u001b[0m \u001b[32m━━━━━━━━━━━━━━━━━━━━\u001b[0m\u001b[37m\u001b[0m \u001b[1m272s\u001b[0m 4s/step - accuracy: 0.7579 - loss: 0.7005 - val_accuracy: 0.8829 - val_loss: 0.3226\n",
      "Epoch 3/30\n",
      "\u001b[1m63/63\u001b[0m \u001b[32m━━━━━━━━━━━━━━━━━━━━\u001b[0m\u001b[37m\u001b[0m \u001b[1m275s\u001b[0m 4s/step - accuracy: 0.8777 - loss: 0.3247 - val_accuracy: 0.9109 - val_loss: 0.2105\n",
      "Epoch 4/30\n",
      "\u001b[1m63/63\u001b[0m \u001b[32m━━━━━━━━━━━━━━━━━━━━\u001b[0m\u001b[37m\u001b[0m \u001b[1m279s\u001b[0m 4s/step - accuracy: 0.9177 - loss: 0.2057 - val_accuracy: 0.9219 - val_loss: 0.1849\n",
      "Epoch 5/30\n",
      "\u001b[1m63/63\u001b[0m \u001b[32m━━━━━━━━━━━━━━━━━━━━\u001b[0m\u001b[37m\u001b[0m \u001b[1m292s\u001b[0m 5s/step - accuracy: 0.9276 - loss: 0.1669 - val_accuracy: 0.9354 - val_loss: 0.1418\n",
      "Epoch 6/30\n",
      "\u001b[1m63/63\u001b[0m \u001b[32m━━━━━━━━━━━━━━━━━━━━\u001b[0m\u001b[37m\u001b[0m \u001b[1m283s\u001b[0m 4s/step - accuracy: 0.9427 - loss: 0.1285 - val_accuracy: 0.9329 - val_loss: 0.1449\n",
      "Epoch 7/30\n",
      "\u001b[1m63/63\u001b[0m \u001b[32m━━━━━━━━━━━━━━━━━━━━\u001b[0m\u001b[37m\u001b[0m \u001b[1m284s\u001b[0m 5s/step - accuracy: 0.9477 - loss: 0.1145 - val_accuracy: 0.9339 - val_loss: 0.1429\n",
      "Epoch 8/30\n",
      "\u001b[1m63/63\u001b[0m \u001b[32m━━━━━━━━━━━━━━━━━━━━\u001b[0m\u001b[37m\u001b[0m \u001b[1m285s\u001b[0m 5s/step - accuracy: 0.9499 - loss: 0.1072 - val_accuracy: 0.9309 - val_loss: 0.1347\n",
      "Epoch 9/30\n",
      "\u001b[1m63/63\u001b[0m \u001b[32m━━━━━━━━━━━━━━━━━━━━\u001b[0m\u001b[37m\u001b[0m \u001b[1m292s\u001b[0m 5s/step - accuracy: 0.9549 - loss: 0.0966 - val_accuracy: 0.9394 - val_loss: 0.1311\n",
      "Epoch 10/30\n",
      "\u001b[1m63/63\u001b[0m \u001b[32m━━━━━━━━━━━━━━━━━━━━\u001b[0m\u001b[37m\u001b[0m \u001b[1m296s\u001b[0m 5s/step - accuracy: 0.9620 - loss: 0.0821 - val_accuracy: 0.9369 - val_loss: 0.1384\n",
      "Epoch 11/30\n",
      "\u001b[1m63/63\u001b[0m \u001b[32m━━━━━━━━━━━━━━━━━━━━\u001b[0m\u001b[37m\u001b[0m \u001b[1m294s\u001b[0m 5s/step - accuracy: 0.9662 - loss: 0.0750 - val_accuracy: 0.9319 - val_loss: 0.1520\n",
      "Epoch 12/30\n",
      "\u001b[1m63/63\u001b[0m \u001b[32m━━━━━━━━━━━━━━━━━━━━\u001b[0m\u001b[37m\u001b[0m \u001b[1m296s\u001b[0m 5s/step - accuracy: 0.9656 - loss: 0.0758 - val_accuracy: 0.9334 - val_loss: 0.1548\n",
      "Epoch 13/30\n",
      "\u001b[1m63/63\u001b[0m \u001b[32m━━━━━━━━━━━━━━━━━━━━\u001b[0m\u001b[37m\u001b[0m \u001b[1m297s\u001b[0m 5s/step - accuracy: 0.9691 - loss: 0.0658 - val_accuracy: 0.9344 - val_loss: 0.1431\n"
     ]
    }
   ],
   "source": [
    "history = model.fit(\n",
    "    X_train,\n",
    "    y_train,\n",
    "    validation_data=(X_val, y_val),\n",
    "    verbose=True,\n",
    "    batch_size=256,\n",
    "    epochs=30,\n",
    "    callbacks=[callback]\n",
    ")\n"
   ]
  },
  {
   "cell_type": "code",
   "execution_count": 73,
   "metadata": {},
   "outputs": [
    {
     "name": "stderr",
     "output_type": "stream",
     "text": [
      "WARNING:absl:You are saving your model as an HDF5 file via `model.save()` or `keras.saving.save_model(model)`. This file format is considered legacy. We recommend using instead the native Keras format, e.g. `model.save('my_model.keras')` or `keras.saving.save_model(model, 'my_model.keras')`. \n"
     ]
    }
   ],
   "source": [
    "model.save('text.h5')"
   ]
  },
  {
   "cell_type": "code",
   "execution_count": 74,
   "metadata": {},
   "outputs": [
    {
     "name": "stdout",
     "output_type": "stream",
     "text": [
      "Model saved as a Pickle file: model_pickle.pkl\n"
     ]
    }
   ],
   "source": [
    "import pickle\n",
    "\n",
    "# Save the entire model using Pickle\n",
    "with open(\"text.pkl\", \"wb\") as f:\n",
    "    pickle.dump(model, f)\n",
    "\n",
    "print(\"Model saved as a Pickle file: model_pickle.pkl\")"
   ]
  },
  {
   "cell_type": "code",
   "execution_count": 75,
   "metadata": {
    "execution": {
     "iopub.execute_input": "2024-10-29T09:32:10.513511Z",
     "iopub.status.busy": "2024-10-29T09:32:10.512480Z",
     "iopub.status.idle": "2024-10-29T09:32:51.556208Z",
     "shell.execute_reply": "2024-10-29T09:32:51.555081Z",
     "shell.execute_reply.started": "2024-10-29T09:32:10.513431Z"
    },
    "trusted": true
   },
   "outputs": [
    {
     "name": "stdout",
     "output_type": "stream",
     "text": [
      "\u001b[1m63/63\u001b[0m \u001b[32m━━━━━━━━━━━━━━━━━━━━\u001b[0m\u001b[37m\u001b[0m \u001b[1m13s\u001b[0m 210ms/step - accuracy: 0.9390 - loss: 0.1208\n"
     ]
    },
    {
     "data": {
      "text/plain": [
       "[0.13108132779598236, 0.9394394159317017]"
      ]
     },
     "execution_count": 75,
     "metadata": {},
     "output_type": "execute_result"
    }
   ],
   "source": [
    "model.evaluate(X_val, y_val, verbose=1)"
   ]
  },
  {
   "cell_type": "code",
   "execution_count": 76,
   "metadata": {
    "execution": {
     "iopub.execute_input": "2024-10-29T09:40:46.732588Z",
     "iopub.status.busy": "2024-10-29T09:40:46.732008Z",
     "iopub.status.idle": "2024-10-29T09:41:27.772292Z",
     "shell.execute_reply": "2024-10-29T09:41:27.770958Z",
     "shell.execute_reply.started": "2024-10-29T09:40:46.732531Z"
    },
    "trusted": true
   },
   "outputs": [
    {
     "name": "stdout",
     "output_type": "stream",
     "text": [
      "\u001b[1m63/63\u001b[0m \u001b[32m━━━━━━━━━━━━━━━━━━━━\u001b[0m\u001b[37m\u001b[0m \u001b[1m14s\u001b[0m 218ms/step\n",
      "              precision    recall  f1-score   support\n",
      "\n",
      "           0       0.92      0.94      0.93       275\n",
      "           1       0.88      0.92      0.90       224\n",
      "           2       0.99      0.90      0.94       695\n",
      "           3       0.76      0.99      0.86       159\n",
      "           4       0.97      0.97      0.97       581\n",
      "           5       0.75      0.71      0.73        66\n",
      "\n",
      "    accuracy                           0.93      2000\n",
      "   macro avg       0.88      0.91      0.89      2000\n",
      "weighted avg       0.93      0.93      0.93      2000\n",
      "\n"
     ]
    }
   ],
   "source": [
    "predicted = model.predict(X_test)\n",
    "y_pred = predicted.argmax(axis=-1)\n",
    "\n",
    "print(classification_report(le.transform(df_test['Emotion']), y_pred))"
   ]
  },
  {
   "cell_type": "code",
   "execution_count": 77,
   "metadata": {
    "execution": {
     "iopub.execute_input": "2024-10-29T09:46:37.650275Z",
     "iopub.status.busy": "2024-10-29T09:46:37.649820Z",
     "iopub.status.idle": "2024-10-29T09:46:38.480127Z",
     "shell.execute_reply": "2024-10-29T09:46:38.478904Z",
     "shell.execute_reply.started": "2024-10-29T09:46:37.650235Z"
    },
    "trusted": true
   },
   "outputs": [
    {
     "data": {
      "image/png": "[encoded data removed]",
      "text/plain": [
       "<Figure size 640x480 with 1 Axes>"
      ]
     },
     "metadata": {},
     "output_type": "display_data"
    },
    {
     "data": {
      "image/png": "[encoded data removed]",
      "text/plain": [
       "<Figure size 640x480 with 1 Axes>"
      ]
     },
     "metadata": {},
     "output_type": "display_data"
    }
   ],
   "source": [
    "%matplotlib inline\n",
    "import matplotlib.pyplot as plt\n",
    "acc = history.history['accuracy']\n",
    "val_acc = history.history['val_accuracy']\n",
    "loss = history.history['loss']\n",
    "val_loss = history.history['val_loss']\n",
    "\n",
    "epochs = range(len(acc))\n",
    "\n",
    "plt.plot(epochs, acc, 'r', label='Training Accuracy')\n",
    "plt.plot(epochs, val_acc, 'b', label='Validation Accuracy')\n",
    "plt.title(\"Training and validation accuracy\")\n",
    "plt.legend()\n",
    "plt.figure()\n",
    "\n",
    "plt.plot(epochs, loss, 'r', label='Training loss')\n",
    "plt.plot(epochs, val_loss, 'b', label='Validation loss')\n",
    "plt.title('Training and validation loss')\n",
    "plt.legend()\n",
    "\n",
    "plt.show()"
   ]
  },
  {
   "cell_type": "code",
   "execution_count": 79,
   "metadata": {},
   "outputs": [
    {
     "name": "stdout",
     "output_type": "stream",
     "text": [
      "\u001b[1m63/63\u001b[0m \u001b[32m━━━━━━━━━━━━━━━━━━━━\u001b[0m\u001b[37m\u001b[0m \u001b[1m11s\u001b[0m 168ms/step\n"
     ]
    },
    {
     "data": {
      "image/png": "[encoded data removed]",
      "text/plain": [
       "<Figure size 1000x800 with 1 Axes>"
      ]
     },
     "metadata": {},
     "output_type": "display_data"
    }
   ],
   "source": [
    "# Import necessary libraries\n",
    "from sklearn.metrics import roc_curve, auc\n",
    "from sklearn.preprocessing import label_binarize\n",
    "from sklearn.metrics import RocCurveDisplay\n",
    "\n",
    "# Define your classes based on your emotion labels\n",
    "emotion_classes = [0, 1, 2, 3, 4, 5]  # Replace with numeric encoding for sadness, anger, love, etc.\n",
    "y_test_binarized = label_binarize(y_test, classes=emotion_classes)\n",
    "\n",
    "# Predict probabilities with your model\n",
    "predictions = model.predict(X_test)  \n",
    "\n",
    "# Plotting ROC for each emotion\n",
    "plt.figure(figsize=(10, 8))\n",
    "for i in range(len(emotion_classes)):\n",
    "    fpr, tpr, _ = roc_curve(y_test_binarized[:, i], predictions[:, i])\n",
    "    roc_auc = auc(fpr, tpr)\n",
    "    plt.plot(fpr, tpr, label=f\"ROC curve for {emotion_classes[i]} (area = {roc_auc:.2f})\")\n",
    "\n",
    "plt.xlabel(\"False Positive Rate\")\n",
    "plt.ylabel(\"True Positive Rate\")\n",
    "plt.title(\"Multi-class ROC Curves for Emotion Classification\")\n",
    "plt.legend(loc=\"lower right\")\n",
    "plt.show()\n"
   ]
  },
  {
   "cell_type": "code",
   "execution_count": null,
   "metadata": {
    "execution": {
     "iopub.execute_input": "2024-10-29T10:02:38.275619Z",
     "iopub.status.busy": "2024-10-29T10:02:38.274762Z",
     "iopub.status.idle": "2024-10-29T10:02:38.421319Z",
     "shell.execute_reply": "2024-10-29T10:02:38.420059Z",
     "shell.execute_reply.started": "2024-10-29T10:02:38.275570Z"
    },
    "trusted": true
   },
   "outputs": [],
   "source": [
    "model.save('Emotion Recognition From English text.h5')"
   ]
  },
  {
   "cell_type": "code",
   "execution_count": null,
   "metadata": {},
   "outputs": [],
   "source": []
  }
 ],
 "metadata": {
  "kaggle": {
   "accelerator": "none",
   "dataSources": [
    {
     "datasetId": 8542,
     "sourceId": 11957,
     "sourceType": "datasetVersion"
    },
    {
     "datasetId": 605165,
     "sourceId": 1085454,
     "sourceType": "datasetVersion"
    },
    {
     "datasetId": 1116138,
     "sourceId": 1874890,
     "sourceType": "datasetVersion"
    },
    {
     "datasetId": 1835,
     "sourceId": 3176,
     "sourceType": "datasetVersion"
    }
   ],
   "dockerImageVersionId": 30786,
   "isGpuEnabled": false,
   "isInternetEnabled": true,
   "language": "python",
   "sourceType": "notebook"
  },
  "kernelspec": {
   "display_name": "Python 3",
   "language": "python",
   "name": "python3"
  },
  "language_info": {
   "codemirror_mode": {
    "name": "ipython",
    "version": 3
   },
   "file_extension": ".py",
   "mimetype": "text/x-python",
   "name": "python",
   "nbconvert_exporter": "python",
   "pygments_lexer": "ipython3",
   "version": "3.12.3"
  }
 },
 "nbformat": 4,
 "nbformat_minor": 4
}
